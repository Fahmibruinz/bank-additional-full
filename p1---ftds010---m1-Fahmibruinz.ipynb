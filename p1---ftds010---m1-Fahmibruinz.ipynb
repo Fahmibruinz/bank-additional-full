{
  "cells": [
    {
      "cell_type": "markdown",
      "metadata": {
        "id": "5dvnEwuYESrY"
      },
      "source": [
        "#    1. Perkenalan"
      ]
    },
    {
      "cell_type": "markdown",
      "metadata": {
        "id": "9Gu2GEuuEHMo"
      },
      "source": [
        "> Bab pengenalan harus diisi dengan identitas, gambaran besar dataset yang digunakan, dan *objective* yang ingin dicapai."
      ]
    },
    {
      "cell_type": "markdown",
      "metadata": {},
      "source": [
        "- Objective : Memepercepat proses analisis kepada calon DPK kita untuk membuka deposito kepada bank portugis"
      ]
    },
    {
      "cell_type": "markdown",
      "metadata": {
        "id": "PwYwYNe7ErFz"
      },
      "source": [
        "- Nama : Fahmi Suwandhi\n",
        "- Batch : 10"
      ]
    },
    {
      "cell_type": "markdown",
      "metadata": {
        "id": "gfhdPQgqEzY7"
      },
      "source": [
        "# 2. Import Libraries"
      ]
    },
    {
      "cell_type": "markdown",
      "metadata": {
        "id": "fsKCP6fDE9EV"
      },
      "source": [
        "> *Cell* pertama pada *notebook* **harus berisi dan hanya berisi** semua *library* yang digunakan dalam *project*."
      ]
    },
    {
      "cell_type": "code",
      "execution_count": 1,
      "metadata": {
        "id": "cj0OCOeQE8Eq"
      },
      "outputs": [
        {
          "name": "stdout",
          "output_type": "stream",
          "text": [
            "Requirement already satisfied: feature-engine in d:\\anaconda\\lib\\site-packages (1.2.0)\n",
            "Requirement already satisfied: pandas>=1.0.3 in d:\\anaconda\\lib\\site-packages (from feature-engine) (1.3.4)\n",
            "Requirement already satisfied: scipy>=1.4.1 in d:\\anaconda\\lib\\site-packages (from feature-engine) (1.7.1)\n",
            "Requirement already satisfied: numpy>=1.18.2 in d:\\anaconda\\lib\\site-packages (from feature-engine) (1.20.3)\n",
            "Requirement already satisfied: scikit-learn>=0.22.2 in d:\\anaconda\\lib\\site-packages (from feature-engine) (0.24.2)\n",
            "Requirement already satisfied: statsmodels>=0.11.1 in d:\\anaconda\\lib\\site-packages (from feature-engine) (0.12.2)\n",
            "Requirement already satisfied: pytz>=2017.3 in d:\\anaconda\\lib\\site-packages (from pandas>=1.0.3->feature-engine) (2021.3)\n",
            "Requirement already satisfied: python-dateutil>=2.7.3 in d:\\anaconda\\lib\\site-packages (from pandas>=1.0.3->feature-engine) (2.8.2)\n",
            "Requirement already satisfied: six>=1.5 in d:\\anaconda\\lib\\site-packages (from python-dateutil>=2.7.3->pandas>=1.0.3->feature-engine) (1.16.0)\n",
            "Requirement already satisfied: threadpoolctl>=2.0.0 in d:\\anaconda\\lib\\site-packages (from scikit-learn>=0.22.2->feature-engine) (2.2.0)\n",
            "Requirement already satisfied: joblib>=0.11 in d:\\anaconda\\lib\\site-packages (from scikit-learn>=0.22.2->feature-engine) (1.1.0)\n",
            "Requirement already satisfied: patsy>=0.5 in d:\\anaconda\\lib\\site-packages (from statsmodels>=0.11.1->feature-engine) (0.5.2)\n"
          ]
        }
      ],
      "source": [
        "import numpy as np\n",
        "import pandas as pd\n",
        "%matplotlib inline\n",
        "import matplotlib.pyplot as plt\n",
        "import seaborn as sns\n",
        "import warnings\n",
        "warnings.filterwarnings('ignore')\n",
        "\n",
        "# Library Input missing Value\n",
        "from sklearn.impute import SimpleImputer\n",
        "\n",
        "# Handling outlier\n",
        "!pip install feature-engine\n",
        "from feature_engine.outliers import Winsorizer\n",
        "\n",
        "# Library Splitting Data\n",
        "from sklearn.model_selection import train_test_split\n",
        "\n",
        "# Feature Encoding\n",
        "from sklearn.preprocessing import LabelEncoder\n",
        "\n",
        "# Feature Scaling using MinMaxScaler\n",
        "from sklearn.preprocessing import MinMaxScaler\n",
        "\n",
        "#Feature Encoding using OneHoTEncoder\n",
        "from sklearn.preprocessing import OneHotEncoder\n",
        "from sklearn.preprocessing import OrdinalEncoder\n",
        "\n",
        "# Features Model\n",
        "from sklearn.svm import SVC\n",
        "from sklearn.linear_model import LogisticRegression\n",
        "from sklearn.ensemble import RandomForestClassifier\n",
        "from sklearn.tree import DecisionTreeClassifier\n",
        "from sklearn.neighbors import KNeighborsClassifier\n",
        "from sklearn.naive_bayes import GaussianNB\n",
        "from sklearn.ensemble import BaggingClassifier\n",
        "\n",
        "\n",
        "# Metrics\n",
        "from sklearn.metrics import accuracy_score, classification_report, r2_score, mean_absolute_error, mean_squared_error, mean_absolute_percentage_error, confusion_matrix, ConfusionMatrixDisplay\n",
        "\n",
        "# Cross Validation\n",
        "from sklearn.model_selection import cross_val_score\n",
        "\n",
        "# Hyperparameter Tuning : Grid Search\n",
        "from sklearn.model_selection import GridSearchCV"
      ]
    },
    {
      "cell_type": "markdown",
      "metadata": {
        "id": "UgnWVh2TFNHU"
      },
      "source": [
        "# 3. Data Loading"
      ]
    },
    {
      "cell_type": "markdown",
      "metadata": {
        "id": "16wybGvrFQ9J"
      },
      "source": [
        "> Bagian ini berisi proses penyiapan data sebelum dilakukan eksplorasi data lebih lanjut. Proses Data Loading dapat berupa memberi nama baru untuk setiap kolom, mengecek ukuran dataset, dll."
      ]
    },
    {
      "cell_type": "code",
      "execution_count": 2,
      "metadata": {
        "id": "64F2zdISFroj"
      },
      "outputs": [
        {
          "name": "stdout",
          "output_type": "stream",
          "text": [
            "(41188, 21)\n"
          ]
        },
        {
          "data": {
            "text/html": [
              "<div>\n",
              "<style scoped>\n",
              "    .dataframe tbody tr th:only-of-type {\n",
              "        vertical-align: middle;\n",
              "    }\n",
              "\n",
              "    .dataframe tbody tr th {\n",
              "        vertical-align: top;\n",
              "    }\n",
              "\n",
              "    .dataframe thead th {\n",
              "        text-align: right;\n",
              "    }\n",
              "</style>\n",
              "<table border=\"1\" class=\"dataframe\">\n",
              "  <thead>\n",
              "    <tr style=\"text-align: right;\">\n",
              "      <th></th>\n",
              "      <th>age</th>\n",
              "      <th>job</th>\n",
              "      <th>marital</th>\n",
              "      <th>education</th>\n",
              "      <th>default</th>\n",
              "      <th>housing</th>\n",
              "      <th>loan</th>\n",
              "      <th>contact</th>\n",
              "      <th>month</th>\n",
              "      <th>day_of_week</th>\n",
              "      <th>...</th>\n",
              "      <th>campaign</th>\n",
              "      <th>pdays</th>\n",
              "      <th>previous</th>\n",
              "      <th>poutcome</th>\n",
              "      <th>emp.var.rate</th>\n",
              "      <th>cons.price.idx</th>\n",
              "      <th>cons.conf.idx</th>\n",
              "      <th>euribor3m</th>\n",
              "      <th>nr.employed</th>\n",
              "      <th>y</th>\n",
              "    </tr>\n",
              "  </thead>\n",
              "  <tbody>\n",
              "    <tr>\n",
              "      <th>0</th>\n",
              "      <td>56</td>\n",
              "      <td>housemaid</td>\n",
              "      <td>married</td>\n",
              "      <td>basic.4y</td>\n",
              "      <td>no</td>\n",
              "      <td>no</td>\n",
              "      <td>no</td>\n",
              "      <td>telephone</td>\n",
              "      <td>may</td>\n",
              "      <td>mon</td>\n",
              "      <td>...</td>\n",
              "      <td>1</td>\n",
              "      <td>999</td>\n",
              "      <td>0</td>\n",
              "      <td>nonexistent</td>\n",
              "      <td>1.1</td>\n",
              "      <td>93.994</td>\n",
              "      <td>-36.4</td>\n",
              "      <td>4.857</td>\n",
              "      <td>5191.0</td>\n",
              "      <td>no</td>\n",
              "    </tr>\n",
              "    <tr>\n",
              "      <th>1</th>\n",
              "      <td>57</td>\n",
              "      <td>services</td>\n",
              "      <td>married</td>\n",
              "      <td>high.school</td>\n",
              "      <td>unknown</td>\n",
              "      <td>no</td>\n",
              "      <td>no</td>\n",
              "      <td>telephone</td>\n",
              "      <td>may</td>\n",
              "      <td>mon</td>\n",
              "      <td>...</td>\n",
              "      <td>1</td>\n",
              "      <td>999</td>\n",
              "      <td>0</td>\n",
              "      <td>nonexistent</td>\n",
              "      <td>1.1</td>\n",
              "      <td>93.994</td>\n",
              "      <td>-36.4</td>\n",
              "      <td>4.857</td>\n",
              "      <td>5191.0</td>\n",
              "      <td>no</td>\n",
              "    </tr>\n",
              "    <tr>\n",
              "      <th>2</th>\n",
              "      <td>37</td>\n",
              "      <td>services</td>\n",
              "      <td>married</td>\n",
              "      <td>high.school</td>\n",
              "      <td>no</td>\n",
              "      <td>yes</td>\n",
              "      <td>no</td>\n",
              "      <td>telephone</td>\n",
              "      <td>may</td>\n",
              "      <td>mon</td>\n",
              "      <td>...</td>\n",
              "      <td>1</td>\n",
              "      <td>999</td>\n",
              "      <td>0</td>\n",
              "      <td>nonexistent</td>\n",
              "      <td>1.1</td>\n",
              "      <td>93.994</td>\n",
              "      <td>-36.4</td>\n",
              "      <td>4.857</td>\n",
              "      <td>5191.0</td>\n",
              "      <td>no</td>\n",
              "    </tr>\n",
              "    <tr>\n",
              "      <th>3</th>\n",
              "      <td>40</td>\n",
              "      <td>admin.</td>\n",
              "      <td>married</td>\n",
              "      <td>basic.6y</td>\n",
              "      <td>no</td>\n",
              "      <td>no</td>\n",
              "      <td>no</td>\n",
              "      <td>telephone</td>\n",
              "      <td>may</td>\n",
              "      <td>mon</td>\n",
              "      <td>...</td>\n",
              "      <td>1</td>\n",
              "      <td>999</td>\n",
              "      <td>0</td>\n",
              "      <td>nonexistent</td>\n",
              "      <td>1.1</td>\n",
              "      <td>93.994</td>\n",
              "      <td>-36.4</td>\n",
              "      <td>4.857</td>\n",
              "      <td>5191.0</td>\n",
              "      <td>no</td>\n",
              "    </tr>\n",
              "    <tr>\n",
              "      <th>4</th>\n",
              "      <td>56</td>\n",
              "      <td>services</td>\n",
              "      <td>married</td>\n",
              "      <td>high.school</td>\n",
              "      <td>no</td>\n",
              "      <td>no</td>\n",
              "      <td>yes</td>\n",
              "      <td>telephone</td>\n",
              "      <td>may</td>\n",
              "      <td>mon</td>\n",
              "      <td>...</td>\n",
              "      <td>1</td>\n",
              "      <td>999</td>\n",
              "      <td>0</td>\n",
              "      <td>nonexistent</td>\n",
              "      <td>1.1</td>\n",
              "      <td>93.994</td>\n",
              "      <td>-36.4</td>\n",
              "      <td>4.857</td>\n",
              "      <td>5191.0</td>\n",
              "      <td>no</td>\n",
              "    </tr>\n",
              "  </tbody>\n",
              "</table>\n",
              "<p>5 rows × 21 columns</p>\n",
              "</div>"
            ],
            "text/plain": [
              "   age        job  marital    education  default housing loan    contact  \\\n",
              "0   56  housemaid  married     basic.4y       no      no   no  telephone   \n",
              "1   57   services  married  high.school  unknown      no   no  telephone   \n",
              "2   37   services  married  high.school       no     yes   no  telephone   \n",
              "3   40     admin.  married     basic.6y       no      no   no  telephone   \n",
              "4   56   services  married  high.school       no      no  yes  telephone   \n",
              "\n",
              "  month day_of_week  ...  campaign  pdays  previous     poutcome emp.var.rate  \\\n",
              "0   may         mon  ...         1    999         0  nonexistent          1.1   \n",
              "1   may         mon  ...         1    999         0  nonexistent          1.1   \n",
              "2   may         mon  ...         1    999         0  nonexistent          1.1   \n",
              "3   may         mon  ...         1    999         0  nonexistent          1.1   \n",
              "4   may         mon  ...         1    999         0  nonexistent          1.1   \n",
              "\n",
              "   cons.price.idx  cons.conf.idx  euribor3m  nr.employed   y  \n",
              "0          93.994          -36.4      4.857       5191.0  no  \n",
              "1          93.994          -36.4      4.857       5191.0  no  \n",
              "2          93.994          -36.4      4.857       5191.0  no  \n",
              "3          93.994          -36.4      4.857       5191.0  no  \n",
              "4          93.994          -36.4      4.857       5191.0  no  \n",
              "\n",
              "[5 rows x 21 columns]"
            ]
          },
          "execution_count": 2,
          "metadata": {},
          "output_type": "execute_result"
        }
      ],
      "source": [
        "# Load data \n",
        "df = pd.read_csv(\"bank-additional-full.csv\", sep=\";\")\n",
        "print(df.shape)\n",
        "df.head()"
      ]
    },
    {
      "cell_type": "markdown",
      "metadata": {},
      "source": [
        "- Exp :\n",
        "> kita dapat melihat ukuran dari data kita memiliki 41188 baris dan 21 kolom"
      ]
    },
    {
      "cell_type": "code",
      "execution_count": 3,
      "metadata": {},
      "outputs": [],
      "source": [
        "# Copy dataset original kedalam variabel df_copy\n",
        "df_ori = df.copy()"
      ]
    },
    {
      "cell_type": "markdown",
      "metadata": {
        "id": "rY7Vr5pppooo"
      },
      "source": [
        "# 4. Exploratory Data Analysis (EDA)"
      ]
    },
    {
      "cell_type": "markdown",
      "metadata": {
        "id": "IzzfjqISpw-P"
      },
      "source": [
        "> Bagian ini berisi eksplorasi data pada dataset diatas dengan menggunakan query, grouping, visualisasi sederhana, dan lain sebagainya."
      ]
    },
    {
      "cell_type": "code",
      "execution_count": 4,
      "metadata": {},
      "outputs": [
        {
          "data": {
            "text/plain": [
              "<AxesSubplot:xlabel='job', ylabel='count'>"
            ]
          },
          "execution_count": 4,
          "metadata": {},
          "output_type": "execute_result"
        },
        {
          "data": {
            "image/png": "[encoded data removed]",
            "text/plain": [
              "<Figure size 1080x360 with 1 Axes>"
            ]
          },
          "metadata": {
            "needs_background": "light"
          },
          "output_type": "display_data"
        }
      ],
      "source": [
        "# Visualisasi calon DPK berdasarkan jenis pekerjaan\n",
        "plt.figure(figsize=(15, 5))\n",
        "sns.countplot(x=df['job'])"
      ]
    },
    {
      "cell_type": "markdown",
      "metadata": {},
      "source": [
        "- Exp :\n",
        "    > Diagram diatas menunjukan jenis perkerjaan dari calon DPK, dapat kita lihat dari 41188 nasabah berhasil di terlefon oleh bag telemarketing kita, ada sekitar 10.000 nasabah berkerja sebagai admin di perusahaannya"
      ]
    },
    {
      "cell_type": "code",
      "execution_count": 5,
      "metadata": {},
      "outputs": [
        {
          "data": {
            "text/plain": [
              "<AxesSubplot:xlabel='job', ylabel='count'>"
            ]
          },
          "execution_count": 5,
          "metadata": {},
          "output_type": "execute_result"
        },
        {
          "data": {
            "image/png": "[encoded data removed]",
            "text/plain": [
              "<Figure size 1440x360 with 1 Axes>"
            ]
          },
          "metadata": {
            "needs_background": "light"
          },
          "output_type": "display_data"
        }
      ],
      "source": [
        "plt.figure(figsize=(20, 5))\n",
        "sns.countplot(data=df, x='job', hue='housing')"
      ]
    },
    {
      "cell_type": "code",
      "execution_count": 6,
      "metadata": {},
      "outputs": [
        {
          "data": {
            "text/plain": [
              "<AxesSubplot:xlabel='job', ylabel='count'>"
            ]
          },
          "execution_count": 6,
          "metadata": {},
          "output_type": "execute_result"
        },
        {
          "data": {
            "image/png": "[encoded data removed]",
            "text/plain": [
              "<Figure size 1440x360 with 1 Axes>"
            ]
          },
          "metadata": {
            "needs_background": "light"
          },
          "output_type": "display_data"
        }
      ],
      "source": [
        "plt.figure(figsize=(20, 5))\n",
        "sns.countplot(data=df, x='job', hue='loan')"
      ]
    },
    {
      "cell_type": "code",
      "execution_count": 7,
      "metadata": {},
      "outputs": [
        {
          "data": {
            "text/plain": [
              "<AxesSubplot:xlabel='marital', ylabel='count'>"
            ]
          },
          "execution_count": 7,
          "metadata": {},
          "output_type": "execute_result"
        },
        {
          "data": {
            "image/png": "[encoded data removed]",
            "text/plain": [
              "<Figure size 1440x360 with 1 Axes>"
            ]
          },
          "metadata": {
            "needs_background": "light"
          },
          "output_type": "display_data"
        }
      ],
      "source": [
        "plt.figure(figsize=(20, 5))\n",
        "sns.countplot(data=df, x='marital', hue='default')"
      ]
    },
    {
      "cell_type": "code",
      "execution_count": 8,
      "metadata": {},
      "outputs": [
        {
          "data": {
            "text/plain": [
              "<AxesSubplot:xlabel='education', ylabel='count'>"
            ]
          },
          "execution_count": 8,
          "metadata": {},
          "output_type": "execute_result"
        },
        {
          "data": {
            "image/png": "[encoded data removed]",
            "text/plain": [
              "<Figure size 1080x360 with 1 Axes>"
            ]
          },
          "metadata": {},
          "output_type": "display_data"
        }
      ],
      "source": [
        "# Visualisasi calon DPK berdasarkan Latar belakang pendidikan\n",
        "sns.set(style='whitegrid')\n",
        "plt.figure(figsize=(15, 5))\n",
        "sns.countplot(x=df['education'])"
      ]
    },
    {
      "cell_type": "markdown",
      "metadata": {},
      "source": [
        "- Exp :\n",
        "    > Ada beberapa latar belakang pendidikan dalam data yang kita dapat dan didominasi gelar universitas kedua sekolah menengah"
      ]
    },
    {
      "cell_type": "code",
      "execution_count": 9,
      "metadata": {},
      "outputs": [
        {
          "name": "stdout",
          "output_type": "stream",
          "text": [
            "<class 'pandas.core.frame.DataFrame'>\n",
            "RangeIndex: 41188 entries, 0 to 41187\n",
            "Data columns (total 21 columns):\n",
            " #   Column          Non-Null Count  Dtype  \n",
            "---  ------          --------------  -----  \n",
            " 0   age             41188 non-null  int64  \n",
            " 1   job             41188 non-null  object \n",
            " 2   marital         41188 non-null  object \n",
            " 3   education       41188 non-null  object \n",
            " 4   default         41188 non-null  object \n",
            " 5   housing         41188 non-null  object \n",
            " 6   loan            41188 non-null  object \n",
            " 7   contact         41188 non-null  object \n",
            " 8   month           41188 non-null  object \n",
            " 9   day_of_week     41188 non-null  object \n",
            " 10  duration        41188 non-null  int64  \n",
            " 11  campaign        41188 non-null  int64  \n",
            " 12  pdays           41188 non-null  int64  \n",
            " 13  previous        41188 non-null  int64  \n",
            " 14  poutcome        41188 non-null  object \n",
            " 15  emp.var.rate    41188 non-null  float64\n",
            " 16  cons.price.idx  41188 non-null  float64\n",
            " 17  cons.conf.idx   41188 non-null  float64\n",
            " 18  euribor3m       41188 non-null  float64\n",
            " 19  nr.employed     41188 non-null  float64\n",
            " 20  y               41188 non-null  object \n",
            "dtypes: float64(5), int64(5), object(11)\n",
            "memory usage: 6.6+ MB\n"
          ]
        }
      ],
      "source": [
        "df.info()"
      ]
    },
    {
      "cell_type": "code",
      "execution_count": 10,
      "metadata": {},
      "outputs": [
        {
          "name": "stdout",
          "output_type": "stream",
          "text": [
            "Job unique :\n",
            "['housemaid' 'services' 'admin.' 'blue-collar' 'technician' 'retired'\n",
            " 'management' 'unemployed' 'self-employed' 'unknown' 'entrepreneur'\n",
            " 'student']\n",
            "*******************************************************************\n",
            "Marital unique :\n",
            "['married' 'single' 'divorced' 'unknown']\n",
            "*******************************************************************\n",
            "Education unique :\n",
            "['basic.4y' 'high.school' 'basic.6y' 'basic.9y' 'professional.course'\n",
            " 'unknown' 'university.degree' 'illiterate']\n",
            "*******************************************************************\n",
            "Default unique :\n",
            "['no' 'unknown' 'yes']\n",
            "*******************************************************************\n",
            "Housing unique :\n",
            "['no' 'yes' 'unknown']\n",
            "*******************************************************************\n",
            "Loan unique :\n",
            "['no' 'yes' 'unknown']\n",
            "*******************************************************************\n",
            "Contact unique :\n",
            "['telephone' 'cellular']\n",
            "*******************************************************************\n",
            "Month unique :\n",
            "['may' 'jun' 'jul' 'aug' 'oct' 'nov' 'dec' 'mar' 'apr' 'sep']\n",
            "*******************************************************************\n",
            "day_of_week unique :\n",
            "['mon' 'tue' 'wed' 'thu' 'fri']\n",
            "*******************************************************************\n",
            "poutcome unique :\n",
            "['nonexistent' 'failure' 'success']\n",
            "*******************************************************************\n"
          ]
        }
      ],
      "source": [
        "# Cek unique value pada kolom kategorik\n",
        "print ('Job unique :')\n",
        "print (df['job'].unique())\n",
        "print ('*******************************************************************')\n",
        "print ('Marital unique :')\n",
        "print (df['marital'].unique())\n",
        "print ('*******************************************************************')\n",
        "print ('Education unique :')\n",
        "print (df['education'].unique())\n",
        "print ('*******************************************************************')\n",
        "print ('Default unique :')\n",
        "print (df['default'].unique())\n",
        "print ('*******************************************************************')\n",
        "print ('Housing unique :')\n",
        "print (df['housing'].unique())\n",
        "print ('*******************************************************************')\n",
        "print ('Loan unique :')\n",
        "print (df['loan'].unique())\n",
        "print ('*******************************************************************')\n",
        "print ('Contact unique :')\n",
        "print (df['contact'].unique())\n",
        "print ('*******************************************************************')\n",
        "print ('Month unique :')\n",
        "print (df['month'].unique())\n",
        "print ('*******************************************************************')\n",
        "print ('day_of_week unique :')\n",
        "print (df['day_of_week'].unique())\n",
        "print ('*******************************************************************')\n",
        "print ('poutcome unique :')\n",
        "print (df['poutcome'].unique())\n",
        "print ('*******************************************************************')"
      ]
    },
    {
      "cell_type": "code",
      "execution_count": 11,
      "metadata": {
        "id": "2HoreFnBpvNn"
      },
      "outputs": [
        {
          "data": {
            "image/png": "[encoded data removed]",
            "text/plain": [
              "<Figure size 1440x1080 with 12 Axes>"
            ]
          },
          "metadata": {
            "needs_background": "light"
          },
          "output_type": "display_data"
        }
      ],
      "source": [
        "# Visualisasi persebaran data setiap columns\n",
        "%matplotlib inline\n",
        "import matplotlib.pyplot as plt\n",
        "df.select_dtypes(include=np.number).hist(bins=50, figsize=(20,15))\n",
        "\n",
        "plt.show()"
      ]
    },
    {
      "cell_type": "markdown",
      "metadata": {
        "id": "msW1Lj9-p3Ja"
      },
      "source": [
        "# 5. Data Preprocessing"
      ]
    },
    {
      "cell_type": "markdown",
      "metadata": {
        "id": "Ba4gM1ofp-iK"
      },
      "source": [
        "> Bagian ini berisi proses penyiapan data untuk proses pelatihan model, seperti pembagian data menjadi train-dev-test, transformasi data (normalisasi, encoding, dll.), dan proses-proses lain yang dibutuhkan."
      ]
    },
    {
      "cell_type": "markdown",
      "metadata": {},
      "source": [
        "#### 5.1 Data Inference"
      ]
    },
    {
      "cell_type": "code",
      "execution_count": 12,
      "metadata": {
        "id": "xIfV6XWhp89H"
      },
      "outputs": [
        {
          "data": {
            "text/html": [
              "<div>\n",
              "<style scoped>\n",
              "    .dataframe tbody tr th:only-of-type {\n",
              "        vertical-align: middle;\n",
              "    }\n",
              "\n",
              "    .dataframe tbody tr th {\n",
              "        vertical-align: top;\n",
              "    }\n",
              "\n",
              "    .dataframe thead th {\n",
              "        text-align: right;\n",
              "    }\n",
              "</style>\n",
              "<table border=\"1\" class=\"dataframe\">\n",
              "  <thead>\n",
              "    <tr style=\"text-align: right;\">\n",
              "      <th></th>\n",
              "      <th>age</th>\n",
              "      <th>job</th>\n",
              "      <th>marital</th>\n",
              "      <th>education</th>\n",
              "      <th>default</th>\n",
              "      <th>housing</th>\n",
              "      <th>loan</th>\n",
              "      <th>contact</th>\n",
              "      <th>month</th>\n",
              "      <th>day_of_week</th>\n",
              "      <th>...</th>\n",
              "      <th>campaign</th>\n",
              "      <th>pdays</th>\n",
              "      <th>previous</th>\n",
              "      <th>poutcome</th>\n",
              "      <th>emp.var.rate</th>\n",
              "      <th>cons.price.idx</th>\n",
              "      <th>cons.conf.idx</th>\n",
              "      <th>euribor3m</th>\n",
              "      <th>nr.employed</th>\n",
              "      <th>y</th>\n",
              "    </tr>\n",
              "  </thead>\n",
              "  <tbody>\n",
              "    <tr>\n",
              "      <th>0</th>\n",
              "      <td>25</td>\n",
              "      <td>student</td>\n",
              "      <td>single</td>\n",
              "      <td>high.school</td>\n",
              "      <td>no</td>\n",
              "      <td>yes</td>\n",
              "      <td>no</td>\n",
              "      <td>cellular</td>\n",
              "      <td>may</td>\n",
              "      <td>mon</td>\n",
              "      <td>...</td>\n",
              "      <td>3</td>\n",
              "      <td>999</td>\n",
              "      <td>0</td>\n",
              "      <td>nonexistent</td>\n",
              "      <td>-1.8</td>\n",
              "      <td>92.893</td>\n",
              "      <td>-46.2</td>\n",
              "      <td>1.244</td>\n",
              "      <td>5099.1</td>\n",
              "      <td>no</td>\n",
              "    </tr>\n",
              "    <tr>\n",
              "      <th>1</th>\n",
              "      <td>36</td>\n",
              "      <td>management</td>\n",
              "      <td>married</td>\n",
              "      <td>university.degree</td>\n",
              "      <td>no</td>\n",
              "      <td>no</td>\n",
              "      <td>no</td>\n",
              "      <td>cellular</td>\n",
              "      <td>aug</td>\n",
              "      <td>mon</td>\n",
              "      <td>...</td>\n",
              "      <td>2</td>\n",
              "      <td>999</td>\n",
              "      <td>0</td>\n",
              "      <td>nonexistent</td>\n",
              "      <td>-2.9</td>\n",
              "      <td>92.201</td>\n",
              "      <td>-31.4</td>\n",
              "      <td>0.884</td>\n",
              "      <td>5076.2</td>\n",
              "      <td>no</td>\n",
              "    </tr>\n",
              "    <tr>\n",
              "      <th>2</th>\n",
              "      <td>88</td>\n",
              "      <td>retired</td>\n",
              "      <td>divorced</td>\n",
              "      <td>basic.4y</td>\n",
              "      <td>no</td>\n",
              "      <td>yes</td>\n",
              "      <td>yes</td>\n",
              "      <td>cellular</td>\n",
              "      <td>mar</td>\n",
              "      <td>wed</td>\n",
              "      <td>...</td>\n",
              "      <td>5</td>\n",
              "      <td>999</td>\n",
              "      <td>0</td>\n",
              "      <td>nonexistent</td>\n",
              "      <td>-1.8</td>\n",
              "      <td>92.843</td>\n",
              "      <td>-50.0</td>\n",
              "      <td>1.663</td>\n",
              "      <td>5099.1</td>\n",
              "      <td>yes</td>\n",
              "    </tr>\n",
              "    <tr>\n",
              "      <th>3</th>\n",
              "      <td>38</td>\n",
              "      <td>blue-collar</td>\n",
              "      <td>married</td>\n",
              "      <td>unknown</td>\n",
              "      <td>no</td>\n",
              "      <td>yes</td>\n",
              "      <td>yes</td>\n",
              "      <td>cellular</td>\n",
              "      <td>jul</td>\n",
              "      <td>wed</td>\n",
              "      <td>...</td>\n",
              "      <td>2</td>\n",
              "      <td>999</td>\n",
              "      <td>0</td>\n",
              "      <td>nonexistent</td>\n",
              "      <td>1.4</td>\n",
              "      <td>93.918</td>\n",
              "      <td>-42.7</td>\n",
              "      <td>4.963</td>\n",
              "      <td>5228.1</td>\n",
              "      <td>no</td>\n",
              "    </tr>\n",
              "    <tr>\n",
              "      <th>4</th>\n",
              "      <td>35</td>\n",
              "      <td>technician</td>\n",
              "      <td>married</td>\n",
              "      <td>university.degree</td>\n",
              "      <td>no</td>\n",
              "      <td>no</td>\n",
              "      <td>no</td>\n",
              "      <td>cellular</td>\n",
              "      <td>apr</td>\n",
              "      <td>mon</td>\n",
              "      <td>...</td>\n",
              "      <td>1</td>\n",
              "      <td>999</td>\n",
              "      <td>0</td>\n",
              "      <td>nonexistent</td>\n",
              "      <td>-1.8</td>\n",
              "      <td>93.075</td>\n",
              "      <td>-47.1</td>\n",
              "      <td>1.405</td>\n",
              "      <td>5099.1</td>\n",
              "      <td>no</td>\n",
              "    </tr>\n",
              "    <tr>\n",
              "      <th>5</th>\n",
              "      <td>35</td>\n",
              "      <td>self-employed</td>\n",
              "      <td>married</td>\n",
              "      <td>high.school</td>\n",
              "      <td>no</td>\n",
              "      <td>no</td>\n",
              "      <td>no</td>\n",
              "      <td>cellular</td>\n",
              "      <td>jul</td>\n",
              "      <td>mon</td>\n",
              "      <td>...</td>\n",
              "      <td>3</td>\n",
              "      <td>999</td>\n",
              "      <td>0</td>\n",
              "      <td>nonexistent</td>\n",
              "      <td>1.4</td>\n",
              "      <td>93.918</td>\n",
              "      <td>-42.7</td>\n",
              "      <td>4.960</td>\n",
              "      <td>5228.1</td>\n",
              "      <td>no</td>\n",
              "    </tr>\n",
              "    <tr>\n",
              "      <th>6</th>\n",
              "      <td>38</td>\n",
              "      <td>student</td>\n",
              "      <td>divorced</td>\n",
              "      <td>unknown</td>\n",
              "      <td>no</td>\n",
              "      <td>no</td>\n",
              "      <td>no</td>\n",
              "      <td>cellular</td>\n",
              "      <td>may</td>\n",
              "      <td>tue</td>\n",
              "      <td>...</td>\n",
              "      <td>3</td>\n",
              "      <td>999</td>\n",
              "      <td>0</td>\n",
              "      <td>nonexistent</td>\n",
              "      <td>-1.8</td>\n",
              "      <td>92.893</td>\n",
              "      <td>-46.2</td>\n",
              "      <td>1.291</td>\n",
              "      <td>5099.1</td>\n",
              "      <td>no</td>\n",
              "    </tr>\n",
              "    <tr>\n",
              "      <th>7</th>\n",
              "      <td>33</td>\n",
              "      <td>services</td>\n",
              "      <td>single</td>\n",
              "      <td>high.school</td>\n",
              "      <td>no</td>\n",
              "      <td>no</td>\n",
              "      <td>no</td>\n",
              "      <td>telephone</td>\n",
              "      <td>may</td>\n",
              "      <td>mon</td>\n",
              "      <td>...</td>\n",
              "      <td>5</td>\n",
              "      <td>999</td>\n",
              "      <td>0</td>\n",
              "      <td>nonexistent</td>\n",
              "      <td>1.1</td>\n",
              "      <td>93.994</td>\n",
              "      <td>-36.4</td>\n",
              "      <td>4.857</td>\n",
              "      <td>5191.0</td>\n",
              "      <td>no</td>\n",
              "    </tr>\n",
              "    <tr>\n",
              "      <th>8</th>\n",
              "      <td>38</td>\n",
              "      <td>unemployed</td>\n",
              "      <td>divorced</td>\n",
              "      <td>professional.course</td>\n",
              "      <td>no</td>\n",
              "      <td>no</td>\n",
              "      <td>no</td>\n",
              "      <td>telephone</td>\n",
              "      <td>may</td>\n",
              "      <td>wed</td>\n",
              "      <td>...</td>\n",
              "      <td>3</td>\n",
              "      <td>999</td>\n",
              "      <td>0</td>\n",
              "      <td>nonexistent</td>\n",
              "      <td>1.1</td>\n",
              "      <td>93.994</td>\n",
              "      <td>-36.4</td>\n",
              "      <td>4.856</td>\n",
              "      <td>5191.0</td>\n",
              "      <td>no</td>\n",
              "    </tr>\n",
              "    <tr>\n",
              "      <th>9</th>\n",
              "      <td>51</td>\n",
              "      <td>admin.</td>\n",
              "      <td>married</td>\n",
              "      <td>basic.9y</td>\n",
              "      <td>no</td>\n",
              "      <td>no</td>\n",
              "      <td>yes</td>\n",
              "      <td>cellular</td>\n",
              "      <td>nov</td>\n",
              "      <td>tue</td>\n",
              "      <td>...</td>\n",
              "      <td>5</td>\n",
              "      <td>999</td>\n",
              "      <td>0</td>\n",
              "      <td>nonexistent</td>\n",
              "      <td>-0.1</td>\n",
              "      <td>93.200</td>\n",
              "      <td>-42.0</td>\n",
              "      <td>4.153</td>\n",
              "      <td>5195.8</td>\n",
              "      <td>no</td>\n",
              "    </tr>\n",
              "  </tbody>\n",
              "</table>\n",
              "<p>10 rows × 21 columns</p>\n",
              "</div>"
            ],
            "text/plain": [
              "   age            job   marital            education default housing loan  \\\n",
              "0   25        student    single          high.school      no     yes   no   \n",
              "1   36     management   married    university.degree      no      no   no   \n",
              "2   88        retired  divorced             basic.4y      no     yes  yes   \n",
              "3   38    blue-collar   married              unknown      no     yes  yes   \n",
              "4   35     technician   married    university.degree      no      no   no   \n",
              "5   35  self-employed   married          high.school      no      no   no   \n",
              "6   38        student  divorced              unknown      no      no   no   \n",
              "7   33       services    single          high.school      no      no   no   \n",
              "8   38     unemployed  divorced  professional.course      no      no   no   \n",
              "9   51         admin.   married             basic.9y      no      no  yes   \n",
              "\n",
              "     contact month day_of_week  ...  campaign  pdays  previous     poutcome  \\\n",
              "0   cellular   may         mon  ...         3    999         0  nonexistent   \n",
              "1   cellular   aug         mon  ...         2    999         0  nonexistent   \n",
              "2   cellular   mar         wed  ...         5    999         0  nonexistent   \n",
              "3   cellular   jul         wed  ...         2    999         0  nonexistent   \n",
              "4   cellular   apr         mon  ...         1    999         0  nonexistent   \n",
              "5   cellular   jul         mon  ...         3    999         0  nonexistent   \n",
              "6   cellular   may         tue  ...         3    999         0  nonexistent   \n",
              "7  telephone   may         mon  ...         5    999         0  nonexistent   \n",
              "8  telephone   may         wed  ...         3    999         0  nonexistent   \n",
              "9   cellular   nov         tue  ...         5    999         0  nonexistent   \n",
              "\n",
              "  emp.var.rate  cons.price.idx  cons.conf.idx  euribor3m  nr.employed    y  \n",
              "0         -1.8          92.893          -46.2      1.244       5099.1   no  \n",
              "1         -2.9          92.201          -31.4      0.884       5076.2   no  \n",
              "2         -1.8          92.843          -50.0      1.663       5099.1  yes  \n",
              "3          1.4          93.918          -42.7      4.963       5228.1   no  \n",
              "4         -1.8          93.075          -47.1      1.405       5099.1   no  \n",
              "5          1.4          93.918          -42.7      4.960       5228.1   no  \n",
              "6         -1.8          92.893          -46.2      1.291       5099.1   no  \n",
              "7          1.1          93.994          -36.4      4.857       5191.0   no  \n",
              "8          1.1          93.994          -36.4      4.856       5191.0   no  \n",
              "9         -0.1          93.200          -42.0      4.153       5195.8   no  \n",
              "\n",
              "[10 rows x 21 columns]"
            ]
          },
          "execution_count": 12,
          "metadata": {},
          "output_type": "execute_result"
        }
      ],
      "source": [
        "# Mengambil data inference dari data set\n",
        "df_inf = df.sample(10, random_state=9)\n",
        "\n",
        "# Remove Inference-Set dari Dataset\n",
        "\n",
        "df_train_test = df.drop(df_inf.index)\n",
        "df_train_test\n",
        "\n",
        "# Reset Index \n",
        "df_train_test.reset_index(drop=True, inplace=True)\n",
        "df_inf.reset_index(drop=True, inplace=True)\n",
        "df_inf"
      ]
    },
    {
      "cell_type": "markdown",
      "metadata": {},
      "source": [
        "#### 5.2 Split Dataset"
      ]
    },
    {
      "cell_type": "code",
      "execution_count": 13,
      "metadata": {},
      "outputs": [
        {
          "name": "stdout",
          "output_type": "stream",
          "text": [
            "Train Size :  (32942, 20)\n",
            "Test Size  :  (8236, 20)\n",
            "y_train Size  :  (32942,)\n",
            "y_test Size  :  (8236,)\n"
          ]
        }
      ],
      "source": [
        "# Split between X (features) and y (target)\n",
        "\n",
        "X = df_train_test.drop('y', axis=1)\n",
        "y = df_train_test['y']\n",
        "\n",
        "# Split untuk Train-Set and Test-Set\n",
        "\n",
        "X_train, X_test, y_train, y_test = train_test_split(X, y, test_size=0.2, random_state=17)\n",
        "\n",
        "print('Train Size : ', X_train.shape)\n",
        "print('Test Size  : ', X_test.shape)\n",
        "print('y_train Size  : ', y_train.shape)\n",
        "print('y_test Size  : ', y_test.shape)"
      ]
    },
    {
      "cell_type": "code",
      "execution_count": 14,
      "metadata": {},
      "outputs": [],
      "source": [
        "# Mendapatkan Numerical Columns and Categorical Columns\n",
        "num_columns = X_train.select_dtypes(include=np.number).columns.tolist()\n",
        "cat_columns = X_train.select_dtypes(include=['object']).columns.tolist()\n",
        "\n",
        "# Split Train-Set and Test-Set berdasrkan tipe kolom (Numerical/Categorical)\n",
        "\n",
        "X_train_num = X_train[num_columns]\n",
        "X_train_cat = X_train[cat_columns]\n",
        "\n",
        "X_test_num = X_test[num_columns]\n",
        "X_test_cat = X_test[cat_columns]\n",
        "\n",
        "# Label Encode\n",
        "y_train = y_train.replace({'yes':0,'no':1})\n",
        "y_test = y_test.replace({'yes':0,'no':1})"
      ]
    },
    {
      "cell_type": "markdown",
      "metadata": {},
      "source": [
        "#### 5.3 Handling Missing value"
      ]
    },
    {
      "cell_type": "code",
      "execution_count": 15,
      "metadata": {},
      "outputs": [
        {
          "name": "stdout",
          "output_type": "stream",
          "text": [
            "0\n",
            "0\n",
            "0\n",
            "0\n",
            "total missing values =  0\n"
          ]
        }
      ],
      "source": [
        "# Cek Missing value\n",
        "print(X_train.isnull().sum().sum())\n",
        "print(X_test.isnull().sum().sum())\n",
        "print(y_train.isnull().sum().sum())\n",
        "print(y_test.isnull().sum().sum())\n",
        "print('total missing values = ', X_train.isnull().sum().sum() + X_test.isnull().sum().sum() + y_train.isnull().sum().sum() + y_test.isnull().sum().sum())"
      ]
    },
    {
      "cell_type": "markdown",
      "metadata": {},
      "source": [
        "- Exp :\n",
        "    > Setelah kita melakukan pengecekan, tidak terdapat kolom missing pada X_train X_test Y_train dan Y_test "
      ]
    },
    {
      "cell_type": "code",
      "execution_count": 16,
      "metadata": {},
      "outputs": [
        {
          "name": "stdout",
          "output_type": "stream",
          "text": [
            "(32942, 10)\n",
            "(8236, 10)\n"
          ]
        }
      ],
      "source": [
        "# Mengisi kolom Missing pada tipe data object pada X_train\n",
        "imputer_cat = SimpleImputer(strategy=\"most_frequent\")\n",
        "imputer_cat.fit(X_train_cat)\n",
        "X = imputer_cat.transform(X_train_cat)\n",
        "\n",
        "X_train_cat_tr = pd.DataFrame(X, columns=X_train_cat.columns, index=X_train_cat.index)\n",
        "print (X_train_cat_tr.shape)\n",
        "\n",
        "# Mengisi kolom Missing pada tipe data object pada X_test\n",
        "imputer_cat.fit(X_test_cat)\n",
        "X2 = imputer_cat.transform(X_test_cat)\n",
        "\n",
        "X_test_cat_tr = pd.DataFrame(X2, columns=X_test_cat.columns, index=X_test_cat.index)\n",
        "print (X_test_cat_tr.shape)"
      ]
    },
    {
      "cell_type": "markdown",
      "metadata": {},
      "source": [
        "#### 5.4 Handling Outliers"
      ]
    },
    {
      "cell_type": "code",
      "execution_count": 17,
      "metadata": {},
      "outputs": [
        {
          "data": {
            "text/html": [
              "<div>\n",
              "<style scoped>\n",
              "    .dataframe tbody tr th:only-of-type {\n",
              "        vertical-align: middle;\n",
              "    }\n",
              "\n",
              "    .dataframe tbody tr th {\n",
              "        vertical-align: top;\n",
              "    }\n",
              "\n",
              "    .dataframe thead th {\n",
              "        text-align: right;\n",
              "    }\n",
              "</style>\n",
              "<table border=\"1\" class=\"dataframe\">\n",
              "  <thead>\n",
              "    <tr style=\"text-align: right;\">\n",
              "      <th></th>\n",
              "      <th>Kolom</th>\n",
              "      <th>Skewness_abs</th>\n",
              "      <th>normal</th>\n",
              "    </tr>\n",
              "  </thead>\n",
              "  <tbody>\n",
              "    <tr>\n",
              "      <th>0</th>\n",
              "      <td>age</td>\n",
              "      <td>0.782637</td>\n",
              "      <td>False</td>\n",
              "    </tr>\n",
              "    <tr>\n",
              "      <th>1</th>\n",
              "      <td>duration</td>\n",
              "      <td>3.323240</td>\n",
              "      <td>False</td>\n",
              "    </tr>\n",
              "    <tr>\n",
              "      <th>2</th>\n",
              "      <td>campaign</td>\n",
              "      <td>4.832333</td>\n",
              "      <td>False</td>\n",
              "    </tr>\n",
              "    <tr>\n",
              "      <th>3</th>\n",
              "      <td>pdays</td>\n",
              "      <td>4.876558</td>\n",
              "      <td>False</td>\n",
              "    </tr>\n",
              "    <tr>\n",
              "      <th>4</th>\n",
              "      <td>previous</td>\n",
              "      <td>3.868771</td>\n",
              "      <td>False</td>\n",
              "    </tr>\n",
              "    <tr>\n",
              "      <th>5</th>\n",
              "      <td>emp.var.rate</td>\n",
              "      <td>0.727119</td>\n",
              "      <td>False</td>\n",
              "    </tr>\n",
              "    <tr>\n",
              "      <th>6</th>\n",
              "      <td>cons.price.idx</td>\n",
              "      <td>0.238369</td>\n",
              "      <td>True</td>\n",
              "    </tr>\n",
              "    <tr>\n",
              "      <th>7</th>\n",
              "      <td>cons.conf.idx</td>\n",
              "      <td>0.311376</td>\n",
              "      <td>True</td>\n",
              "    </tr>\n",
              "    <tr>\n",
              "      <th>8</th>\n",
              "      <td>euribor3m</td>\n",
              "      <td>0.711283</td>\n",
              "      <td>False</td>\n",
              "    </tr>\n",
              "    <tr>\n",
              "      <th>9</th>\n",
              "      <td>nr.employed</td>\n",
              "      <td>1.044708</td>\n",
              "      <td>False</td>\n",
              "    </tr>\n",
              "  </tbody>\n",
              "</table>\n",
              "</div>"
            ],
            "text/plain": [
              "            Kolom  Skewness_abs  normal\n",
              "0             age      0.782637   False\n",
              "1        duration      3.323240   False\n",
              "2        campaign      4.832333   False\n",
              "3           pdays      4.876558   False\n",
              "4        previous      3.868771   False\n",
              "5    emp.var.rate      0.727119   False\n",
              "6  cons.price.idx      0.238369    True\n",
              "7   cons.conf.idx      0.311376    True\n",
              "8       euribor3m      0.711283   False\n",
              "9     nr.employed      1.044708   False"
            ]
          },
          "execution_count": 17,
          "metadata": {},
          "output_type": "execute_result"
        }
      ],
      "source": [
        "#Cek Skewness\n",
        "skew1 = []\n",
        "for i in num_columns:\n",
        "    skew1.append(abs(X_train[i].skew()))\n",
        "\n",
        "# Visualisasi ke data frame\n",
        "df_skew1 = pd.DataFrame({'Kolom':num_columns, 'Skewness_abs':skew1})\n",
        "df_skew1['normal'] = df_skew1.Skewness_abs.apply(lambda x: True if x<=0.5 else False)\n",
        "df_skew1"
      ]
    },
    {
      "cell_type": "markdown",
      "metadata": {},
      "source": [
        "- Exp :\n",
        "    > Untuk kolom cons.price.idx dan cons.conf.idx terdistribusi normal sedangkan kolom numerik lainnya skewed"
      ]
    },
    {
      "cell_type": "code",
      "execution_count": 18,
      "metadata": {},
      "outputs": [
        {
          "data": {
            "text/html": [
              "<div>\n",
              "<style scoped>\n",
              "    .dataframe tbody tr th:only-of-type {\n",
              "        vertical-align: middle;\n",
              "    }\n",
              "\n",
              "    .dataframe tbody tr th {\n",
              "        vertical-align: top;\n",
              "    }\n",
              "\n",
              "    .dataframe thead th {\n",
              "        text-align: right;\n",
              "    }\n",
              "</style>\n",
              "<table border=\"1\" class=\"dataframe\">\n",
              "  <thead>\n",
              "    <tr style=\"text-align: right;\">\n",
              "      <th></th>\n",
              "      <th>Kolom</th>\n",
              "      <th>persentasi_outlier</th>\n",
              "    </tr>\n",
              "  </thead>\n",
              "  <tbody>\n",
              "    <tr>\n",
              "      <th>0</th>\n",
              "      <td>cons.price.idx</td>\n",
              "      <td>0.0</td>\n",
              "    </tr>\n",
              "    <tr>\n",
              "      <th>1</th>\n",
              "      <td>cons.conf.idx</td>\n",
              "      <td>0.0</td>\n",
              "    </tr>\n",
              "  </tbody>\n",
              "</table>\n",
              "</div>"
            ],
            "text/plain": [
              "            Kolom  persentasi_outlier\n",
              "0  cons.price.idx                 0.0\n",
              "1   cons.conf.idx                 0.0"
            ]
          },
          "execution_count": 18,
          "metadata": {},
          "output_type": "execute_result"
        }
      ],
      "source": [
        "# Cek Persentasi untuk kolom yg terdistribusi normal\n",
        "percent_outliers1 = []\n",
        "for i in ['cons.price.idx', 'cons.conf.idx']:\n",
        "    std = X_train[i].std()\n",
        "    upper = X_train[i].mean() + 3*std\n",
        "    lower = X_train[i].mean() - 3*std\n",
        "    percent = len(X_train[(X_train[i]>upper)|(X_train[i]<lower)])*100/len(X_train)\n",
        "    percent_outliers1.append(percent)\n",
        "\n",
        "# Visualisasi ke Data Frame\n",
        "pd.DataFrame({'Kolom':['cons.price.idx', 'cons.conf.idx'], 'persentasi_outlier':percent_outliers1})"
      ]
    },
    {
      "cell_type": "markdown",
      "metadata": {},
      "source": [
        "- Exp :\n",
        "    > Jumlah outlier pada kolom cons.price.idx dan cons.conf.idx 0%"
      ]
    },
    {
      "cell_type": "code",
      "execution_count": 19,
      "metadata": {},
      "outputs": [
        {
          "data": {
            "text/html": [
              "<div>\n",
              "<style scoped>\n",
              "    .dataframe tbody tr th:only-of-type {\n",
              "        vertical-align: middle;\n",
              "    }\n",
              "\n",
              "    .dataframe tbody tr th {\n",
              "        vertical-align: top;\n",
              "    }\n",
              "\n",
              "    .dataframe thead th {\n",
              "        text-align: right;\n",
              "    }\n",
              "</style>\n",
              "<table border=\"1\" class=\"dataframe\">\n",
              "  <thead>\n",
              "    <tr style=\"text-align: right;\">\n",
              "      <th></th>\n",
              "      <th>Kolom</th>\n",
              "      <th>persentasi_outlier</th>\n",
              "    </tr>\n",
              "  </thead>\n",
              "  <tbody>\n",
              "    <tr>\n",
              "      <th>0</th>\n",
              "      <td>age</td>\n",
              "      <td>0.012143</td>\n",
              "    </tr>\n",
              "    <tr>\n",
              "      <th>1</th>\n",
              "      <td>duration</td>\n",
              "      <td>2.507437</td>\n",
              "    </tr>\n",
              "    <tr>\n",
              "      <th>2</th>\n",
              "      <td>campaign</td>\n",
              "      <td>2.683504</td>\n",
              "    </tr>\n",
              "    <tr>\n",
              "      <th>3</th>\n",
              "      <td>pdays</td>\n",
              "      <td>3.739907</td>\n",
              "    </tr>\n",
              "    <tr>\n",
              "      <th>4</th>\n",
              "      <td>previous</td>\n",
              "      <td>13.718050</td>\n",
              "    </tr>\n",
              "    <tr>\n",
              "      <th>5</th>\n",
              "      <td>emp.var.rate</td>\n",
              "      <td>0.000000</td>\n",
              "    </tr>\n",
              "    <tr>\n",
              "      <th>6</th>\n",
              "      <td>euribor3m</td>\n",
              "      <td>0.000000</td>\n",
              "    </tr>\n",
              "    <tr>\n",
              "      <th>7</th>\n",
              "      <td>nr.employed</td>\n",
              "      <td>0.000000</td>\n",
              "    </tr>\n",
              "  </tbody>\n",
              "</table>\n",
              "</div>"
            ],
            "text/plain": [
              "          Kolom  persentasi_outlier\n",
              "0           age            0.012143\n",
              "1      duration            2.507437\n",
              "2      campaign            2.683504\n",
              "3         pdays            3.739907\n",
              "4      previous           13.718050\n",
              "5  emp.var.rate            0.000000\n",
              "6     euribor3m            0.000000\n",
              "7   nr.employed            0.000000"
            ]
          },
          "execution_count": 19,
          "metadata": {},
          "output_type": "execute_result"
        }
      ],
      "source": [
        "# Cek Persentasi untuk kolom yg terdistribusi skewed\n",
        "percent_outliers2 = []\n",
        "num = 3\n",
        "for i in ['age', 'duration','campaign','pdays','previous','emp.var.rate','euribor3m','nr.employed']:\n",
        "    q1 = np.quantile(X_train[i], 0.25)\n",
        "    q3 = np.quantile(X_train[i], 0.75)\n",
        "    iqr = q3 - q1\n",
        "    upper1 = q3 + num*iqr\n",
        "    lower1 = q1 - num*iqr\n",
        "    percent = len(X_train[(X_train[i]>upper1)|(X_train[i]<lower1)])*100/len(X_train)\n",
        "    percent_outliers2.append(percent)\n",
        "\n",
        "# Visualisasi ke Data Frame\n",
        "pd.DataFrame({'Kolom':['age', 'duration','campaign','pdays','previous','emp.var.rate','euribor3m','nr.employed'], 'persentasi_outlier':percent_outliers2})"
      ]
    },
    {
      "cell_type": "markdown",
      "metadata": {},
      "source": [
        "- Exp :\n",
        "    > - Jumlah outlier untuk kolom nr.employed euribor3m emp.var.rate adalah 0%\n",
        "    > - sedangkan untuk kolom previous pdays campaign duration cukup besar persentasinya\n",
        "    > - Untuk kolom age cukup kecil persentasi terhadap outlier nya jadi dapat kita biarkan saja"
      ]
    },
    {
      "cell_type": "code",
      "execution_count": 20,
      "metadata": {},
      "outputs": [
        {
          "data": {
            "text/html": [
              "<div>\n",
              "<style scoped>\n",
              "    .dataframe tbody tr th:only-of-type {\n",
              "        vertical-align: middle;\n",
              "    }\n",
              "\n",
              "    .dataframe tbody tr th {\n",
              "        vertical-align: top;\n",
              "    }\n",
              "\n",
              "    .dataframe thead th {\n",
              "        text-align: right;\n",
              "    }\n",
              "</style>\n",
              "<table border=\"1\" class=\"dataframe\">\n",
              "  <thead>\n",
              "    <tr style=\"text-align: right;\">\n",
              "      <th></th>\n",
              "      <th>age</th>\n",
              "      <th>job</th>\n",
              "      <th>marital</th>\n",
              "      <th>education</th>\n",
              "      <th>default</th>\n",
              "      <th>housing</th>\n",
              "      <th>loan</th>\n",
              "      <th>contact</th>\n",
              "      <th>month</th>\n",
              "      <th>day_of_week</th>\n",
              "      <th>duration</th>\n",
              "      <th>campaign</th>\n",
              "      <th>pdays</th>\n",
              "      <th>previous</th>\n",
              "      <th>poutcome</th>\n",
              "      <th>emp.var.rate</th>\n",
              "      <th>cons.price.idx</th>\n",
              "      <th>cons.conf.idx</th>\n",
              "      <th>euribor3m</th>\n",
              "      <th>nr.employed</th>\n",
              "    </tr>\n",
              "  </thead>\n",
              "  <tbody>\n",
              "    <tr>\n",
              "      <th>16278</th>\n",
              "      <td>34</td>\n",
              "      <td>blue-collar</td>\n",
              "      <td>married</td>\n",
              "      <td>unknown</td>\n",
              "      <td>no</td>\n",
              "      <td>no</td>\n",
              "      <td>yes</td>\n",
              "      <td>cellular</td>\n",
              "      <td>jul</td>\n",
              "      <td>tue</td>\n",
              "      <td>44</td>\n",
              "      <td>13</td>\n",
              "      <td>999</td>\n",
              "      <td>0</td>\n",
              "      <td>nonexistent</td>\n",
              "      <td>1.4</td>\n",
              "      <td>93.918</td>\n",
              "      <td>-42.7</td>\n",
              "      <td>4.961</td>\n",
              "      <td>5228.1</td>\n",
              "    </tr>\n",
              "    <tr>\n",
              "      <th>22857</th>\n",
              "      <td>40</td>\n",
              "      <td>admin.</td>\n",
              "      <td>married</td>\n",
              "      <td>university.degree</td>\n",
              "      <td>no</td>\n",
              "      <td>no</td>\n",
              "      <td>no</td>\n",
              "      <td>cellular</td>\n",
              "      <td>aug</td>\n",
              "      <td>mon</td>\n",
              "      <td>23</td>\n",
              "      <td>12</td>\n",
              "      <td>999</td>\n",
              "      <td>0</td>\n",
              "      <td>nonexistent</td>\n",
              "      <td>1.4</td>\n",
              "      <td>93.444</td>\n",
              "      <td>-36.1</td>\n",
              "      <td>4.965</td>\n",
              "      <td>5228.1</td>\n",
              "    </tr>\n",
              "    <tr>\n",
              "      <th>22883</th>\n",
              "      <td>30</td>\n",
              "      <td>technician</td>\n",
              "      <td>single</td>\n",
              "      <td>university.degree</td>\n",
              "      <td>no</td>\n",
              "      <td>yes</td>\n",
              "      <td>no</td>\n",
              "      <td>cellular</td>\n",
              "      <td>aug</td>\n",
              "      <td>mon</td>\n",
              "      <td>14</td>\n",
              "      <td>13</td>\n",
              "      <td>999</td>\n",
              "      <td>0</td>\n",
              "      <td>nonexistent</td>\n",
              "      <td>1.4</td>\n",
              "      <td>93.444</td>\n",
              "      <td>-36.1</td>\n",
              "      <td>4.965</td>\n",
              "      <td>5228.1</td>\n",
              "    </tr>\n",
              "    <tr>\n",
              "      <th>37866</th>\n",
              "      <td>29</td>\n",
              "      <td>admin.</td>\n",
              "      <td>single</td>\n",
              "      <td>university.degree</td>\n",
              "      <td>no</td>\n",
              "      <td>yes</td>\n",
              "      <td>yes</td>\n",
              "      <td>cellular</td>\n",
              "      <td>aug</td>\n",
              "      <td>mon</td>\n",
              "      <td>121</td>\n",
              "      <td>12</td>\n",
              "      <td>999</td>\n",
              "      <td>0</td>\n",
              "      <td>nonexistent</td>\n",
              "      <td>-2.9</td>\n",
              "      <td>92.201</td>\n",
              "      <td>-31.4</td>\n",
              "      <td>0.821</td>\n",
              "      <td>5076.2</td>\n",
              "    </tr>\n",
              "    <tr>\n",
              "      <th>3286</th>\n",
              "      <td>37</td>\n",
              "      <td>admin.</td>\n",
              "      <td>divorced</td>\n",
              "      <td>high.school</td>\n",
              "      <td>no</td>\n",
              "      <td>no</td>\n",
              "      <td>no</td>\n",
              "      <td>telephone</td>\n",
              "      <td>may</td>\n",
              "      <td>thu</td>\n",
              "      <td>51</td>\n",
              "      <td>10</td>\n",
              "      <td>999</td>\n",
              "      <td>0</td>\n",
              "      <td>nonexistent</td>\n",
              "      <td>1.1</td>\n",
              "      <td>93.994</td>\n",
              "      <td>-36.4</td>\n",
              "      <td>4.860</td>\n",
              "      <td>5191.0</td>\n",
              "    </tr>\n",
              "    <tr>\n",
              "      <th>...</th>\n",
              "      <td>...</td>\n",
              "      <td>...</td>\n",
              "      <td>...</td>\n",
              "      <td>...</td>\n",
              "      <td>...</td>\n",
              "      <td>...</td>\n",
              "      <td>...</td>\n",
              "      <td>...</td>\n",
              "      <td>...</td>\n",
              "      <td>...</td>\n",
              "      <td>...</td>\n",
              "      <td>...</td>\n",
              "      <td>...</td>\n",
              "      <td>...</td>\n",
              "      <td>...</td>\n",
              "      <td>...</td>\n",
              "      <td>...</td>\n",
              "      <td>...</td>\n",
              "      <td>...</td>\n",
              "      <td>...</td>\n",
              "    </tr>\n",
              "    <tr>\n",
              "      <th>23637</th>\n",
              "      <td>34</td>\n",
              "      <td>admin.</td>\n",
              "      <td>married</td>\n",
              "      <td>university.degree</td>\n",
              "      <td>no</td>\n",
              "      <td>yes</td>\n",
              "      <td>yes</td>\n",
              "      <td>telephone</td>\n",
              "      <td>aug</td>\n",
              "      <td>thu</td>\n",
              "      <td>19</td>\n",
              "      <td>10</td>\n",
              "      <td>999</td>\n",
              "      <td>0</td>\n",
              "      <td>nonexistent</td>\n",
              "      <td>1.4</td>\n",
              "      <td>93.444</td>\n",
              "      <td>-36.1</td>\n",
              "      <td>4.962</td>\n",
              "      <td>5228.1</td>\n",
              "    </tr>\n",
              "    <tr>\n",
              "      <th>10575</th>\n",
              "      <td>32</td>\n",
              "      <td>unemployed</td>\n",
              "      <td>single</td>\n",
              "      <td>high.school</td>\n",
              "      <td>unknown</td>\n",
              "      <td>no</td>\n",
              "      <td>no</td>\n",
              "      <td>telephone</td>\n",
              "      <td>jun</td>\n",
              "      <td>tue</td>\n",
              "      <td>34</td>\n",
              "      <td>11</td>\n",
              "      <td>999</td>\n",
              "      <td>0</td>\n",
              "      <td>nonexistent</td>\n",
              "      <td>1.4</td>\n",
              "      <td>94.465</td>\n",
              "      <td>-41.8</td>\n",
              "      <td>4.961</td>\n",
              "      <td>5228.1</td>\n",
              "    </tr>\n",
              "    <tr>\n",
              "      <th>31037</th>\n",
              "      <td>31</td>\n",
              "      <td>admin.</td>\n",
              "      <td>married</td>\n",
              "      <td>unknown</td>\n",
              "      <td>no</td>\n",
              "      <td>yes</td>\n",
              "      <td>no</td>\n",
              "      <td>cellular</td>\n",
              "      <td>may</td>\n",
              "      <td>wed</td>\n",
              "      <td>7</td>\n",
              "      <td>11</td>\n",
              "      <td>999</td>\n",
              "      <td>1</td>\n",
              "      <td>failure</td>\n",
              "      <td>-1.8</td>\n",
              "      <td>92.893</td>\n",
              "      <td>-46.2</td>\n",
              "      <td>1.334</td>\n",
              "      <td>5099.1</td>\n",
              "    </tr>\n",
              "    <tr>\n",
              "      <th>23588</th>\n",
              "      <td>40</td>\n",
              "      <td>technician</td>\n",
              "      <td>divorced</td>\n",
              "      <td>professional.course</td>\n",
              "      <td>no</td>\n",
              "      <td>no</td>\n",
              "      <td>yes</td>\n",
              "      <td>cellular</td>\n",
              "      <td>aug</td>\n",
              "      <td>thu</td>\n",
              "      <td>49</td>\n",
              "      <td>22</td>\n",
              "      <td>999</td>\n",
              "      <td>0</td>\n",
              "      <td>nonexistent</td>\n",
              "      <td>1.4</td>\n",
              "      <td>93.444</td>\n",
              "      <td>-36.1</td>\n",
              "      <td>4.962</td>\n",
              "      <td>5228.1</td>\n",
              "    </tr>\n",
              "    <tr>\n",
              "      <th>17434</th>\n",
              "      <td>42</td>\n",
              "      <td>admin.</td>\n",
              "      <td>married</td>\n",
              "      <td>university.degree</td>\n",
              "      <td>no</td>\n",
              "      <td>no</td>\n",
              "      <td>no</td>\n",
              "      <td>cellular</td>\n",
              "      <td>jul</td>\n",
              "      <td>mon</td>\n",
              "      <td>24</td>\n",
              "      <td>12</td>\n",
              "      <td>999</td>\n",
              "      <td>0</td>\n",
              "      <td>nonexistent</td>\n",
              "      <td>1.4</td>\n",
              "      <td>93.918</td>\n",
              "      <td>-42.7</td>\n",
              "      <td>4.962</td>\n",
              "      <td>5228.1</td>\n",
              "    </tr>\n",
              "  </tbody>\n",
              "</table>\n",
              "<p>884 rows × 20 columns</p>\n",
              "</div>"
            ],
            "text/plain": [
              "       age          job   marital            education  default housing loan  \\\n",
              "16278   34  blue-collar   married              unknown       no      no  yes   \n",
              "22857   40       admin.   married    university.degree       no      no   no   \n",
              "22883   30   technician    single    university.degree       no     yes   no   \n",
              "37866   29       admin.    single    university.degree       no     yes  yes   \n",
              "3286    37       admin.  divorced          high.school       no      no   no   \n",
              "...    ...          ...       ...                  ...      ...     ...  ...   \n",
              "23637   34       admin.   married    university.degree       no     yes  yes   \n",
              "10575   32   unemployed    single          high.school  unknown      no   no   \n",
              "31037   31       admin.   married              unknown       no     yes   no   \n",
              "23588   40   technician  divorced  professional.course       no      no  yes   \n",
              "17434   42       admin.   married    university.degree       no      no   no   \n",
              "\n",
              "         contact month day_of_week  duration  campaign  pdays  previous  \\\n",
              "16278   cellular   jul         tue        44        13    999         0   \n",
              "22857   cellular   aug         mon        23        12    999         0   \n",
              "22883   cellular   aug         mon        14        13    999         0   \n",
              "37866   cellular   aug         mon       121        12    999         0   \n",
              "3286   telephone   may         thu        51        10    999         0   \n",
              "...          ...   ...         ...       ...       ...    ...       ...   \n",
              "23637  telephone   aug         thu        19        10    999         0   \n",
              "10575  telephone   jun         tue        34        11    999         0   \n",
              "31037   cellular   may         wed         7        11    999         1   \n",
              "23588   cellular   aug         thu        49        22    999         0   \n",
              "17434   cellular   jul         mon        24        12    999         0   \n",
              "\n",
              "          poutcome  emp.var.rate  cons.price.idx  cons.conf.idx  euribor3m  \\\n",
              "16278  nonexistent           1.4          93.918          -42.7      4.961   \n",
              "22857  nonexistent           1.4          93.444          -36.1      4.965   \n",
              "22883  nonexistent           1.4          93.444          -36.1      4.965   \n",
              "37866  nonexistent          -2.9          92.201          -31.4      0.821   \n",
              "3286   nonexistent           1.1          93.994          -36.4      4.860   \n",
              "...            ...           ...             ...            ...        ...   \n",
              "23637  nonexistent           1.4          93.444          -36.1      4.962   \n",
              "10575  nonexistent           1.4          94.465          -41.8      4.961   \n",
              "31037      failure          -1.8          92.893          -46.2      1.334   \n",
              "23588  nonexistent           1.4          93.444          -36.1      4.962   \n",
              "17434  nonexistent           1.4          93.918          -42.7      4.962   \n",
              "\n",
              "       nr.employed  \n",
              "16278       5228.1  \n",
              "22857       5228.1  \n",
              "22883       5228.1  \n",
              "37866       5076.2  \n",
              "3286        5191.0  \n",
              "...            ...  \n",
              "23637       5228.1  \n",
              "10575       5228.1  \n",
              "31037       5099.1  \n",
              "23588       5228.1  \n",
              "17434       5228.1  \n",
              "\n",
              "[884 rows x 20 columns]"
            ]
          },
          "execution_count": 20,
          "metadata": {},
          "output_type": "execute_result"
        }
      ],
      "source": [
        "# Outlier pada kolom campaign \n",
        "num = 3\n",
        "q1 = np.quantile(X_train['campaign'], 0.25)\n",
        "q3 = np.quantile(X_train['campaign'], 0.75)\n",
        "iqr = q3 - q1\n",
        "upper1 = q3 + num*iqr\n",
        "lower1 = q1 - num*iqr\n",
        "X_train[(X_train['campaign']>upper1)|(X_train['campaign']<lower1)]"
      ]
    },
    {
      "cell_type": "code",
      "execution_count": 21,
      "metadata": {},
      "outputs": [
        {
          "name": "stdout",
          "output_type": "stream",
          "text": [
            "(32942, 10)\n",
            "(32942, 10)\n"
          ]
        }
      ],
      "source": [
        "# Melakukan capping terhadap outlier skewed\n",
        "windsoriser = Winsorizer(capping_method='iqr', # choose iqr for IQR rule boundaries or gaussian for mean and std\n",
        "                          tail='both', # cap left, right or both tails \n",
        "                          fold=1.5,\n",
        "                          variables=['duration', 'campaign', 'pdays','previous'])\n",
        "\n",
        "# Melakukan capping terha\n",
        "windsoriser.fit(X_train_num)\n",
        "\n",
        "X_train_num_cap = windsoriser.transform(X_train_num)\n",
        "\n",
        "print (X_train_num.shape)\n",
        "print (X_train_num_cap.shape)"
      ]
    },
    {
      "cell_type": "code",
      "execution_count": 22,
      "metadata": {},
      "outputs": [
        {
          "name": "stdout",
          "output_type": "stream",
          "text": [
            "X_train Dataframe - Before Capping\n",
            "                age      duration      campaign         pdays      previous  \\\n",
            "count  32942.000000  32942.000000  32942.000000  32942.000000  32942.000000   \n",
            "mean      40.026228    258.558952      2.571246    961.861393      0.174580   \n",
            "std       10.433678    260.146389      2.810145    188.420549      0.499871   \n",
            "min       17.000000      0.000000      1.000000      0.000000      0.000000   \n",
            "25%       32.000000    102.000000      1.000000    999.000000      0.000000   \n",
            "50%       38.000000    179.000000      2.000000    999.000000      0.000000   \n",
            "75%       47.000000    320.000000      3.000000    999.000000      0.000000   \n",
            "max       98.000000   4918.000000     56.000000    999.000000      7.000000   \n",
            "\n",
            "       emp.var.rate  cons.price.idx  cons.conf.idx     euribor3m   nr.employed  \n",
            "count  32942.000000    32942.000000   32942.000000  32942.000000  32942.000000  \n",
            "mean       0.081783       93.574550     -40.485902      3.622361   5167.068402  \n",
            "std        1.573119        0.579319       4.634729      1.734791     72.298796  \n",
            "min       -3.400000       92.201000     -50.800000      0.634000   4963.600000  \n",
            "25%       -1.800000       93.075000     -42.700000      1.344000   5099.100000  \n",
            "50%        1.100000       93.749000     -41.800000      4.857000   5191.000000  \n",
            "75%        1.400000       93.994000     -36.400000      4.961000   5228.100000  \n",
            "max        1.400000       94.767000     -26.900000      5.045000   5228.100000  \n",
            "\n",
            "X_train Dataframe - After Capping\n",
            "                age      duration      campaign    pdays  previous  \\\n",
            "count  32942.000000  32942.000000  32942.000000  32942.0   32942.0   \n",
            "mean      40.026228    235.346366      2.271568    999.0       0.0   \n",
            "std       10.433678    177.922117      1.548077      0.0       0.0   \n",
            "min       17.000000      0.000000      1.000000    999.0       0.0   \n",
            "25%       32.000000    102.000000      1.000000    999.0       0.0   \n",
            "50%       38.000000    179.000000      2.000000    999.0       0.0   \n",
            "75%       47.000000    320.000000      3.000000    999.0       0.0   \n",
            "max       98.000000    647.000000      6.000000    999.0       0.0   \n",
            "\n",
            "       emp.var.rate  cons.price.idx  cons.conf.idx     euribor3m   nr.employed  \n",
            "count  32942.000000    32942.000000   32942.000000  32942.000000  32942.000000  \n",
            "mean       0.081783       93.574550     -40.485902      3.622361   5167.068402  \n",
            "std        1.573119        0.579319       4.634729      1.734791     72.298796  \n",
            "min       -3.400000       92.201000     -50.800000      0.634000   4963.600000  \n",
            "25%       -1.800000       93.075000     -42.700000      1.344000   5099.100000  \n",
            "50%        1.100000       93.749000     -41.800000      4.857000   5191.000000  \n",
            "75%        1.400000       93.994000     -36.400000      4.961000   5228.100000  \n",
            "max        1.400000       94.767000     -26.900000      5.045000   5228.100000  \n"
          ]
        }
      ],
      "source": [
        "# Print sebelum dan sesudah capping\n",
        "print('X_train Dataframe - Before Capping')\n",
        "print(X_train_num.describe())\n",
        "print('')\n",
        "print('X_train Dataframe - After Capping')\n",
        "print(X_train_num_cap.describe())"
      ]
    },
    {
      "cell_type": "markdown",
      "metadata": {},
      "source": [
        "#### 5.5 Features Selection"
      ]
    },
    {
      "cell_type": "code",
      "execution_count": 23,
      "metadata": {},
      "outputs": [
        {
          "data": {
            "text/html": [
              "<div>\n",
              "<style scoped>\n",
              "    .dataframe tbody tr th:only-of-type {\n",
              "        vertical-align: middle;\n",
              "    }\n",
              "\n",
              "    .dataframe tbody tr th {\n",
              "        vertical-align: top;\n",
              "    }\n",
              "\n",
              "    .dataframe thead th {\n",
              "        text-align: right;\n",
              "    }\n",
              "</style>\n",
              "<table border=\"1\" class=\"dataframe\">\n",
              "  <thead>\n",
              "    <tr style=\"text-align: right;\">\n",
              "      <th></th>\n",
              "      <th>job</th>\n",
              "      <th>marital</th>\n",
              "      <th>education</th>\n",
              "      <th>default</th>\n",
              "      <th>housing</th>\n",
              "      <th>loan</th>\n",
              "      <th>contact</th>\n",
              "      <th>month</th>\n",
              "      <th>day_of_week</th>\n",
              "      <th>poutcome</th>\n",
              "    </tr>\n",
              "  </thead>\n",
              "  <tbody>\n",
              "    <tr>\n",
              "      <th>38185</th>\n",
              "      <td>5</td>\n",
              "      <td>0</td>\n",
              "      <td>0</td>\n",
              "      <td>0</td>\n",
              "      <td>0</td>\n",
              "      <td>0</td>\n",
              "      <td>0</td>\n",
              "      <td>8</td>\n",
              "      <td>3</td>\n",
              "      <td>1</td>\n",
              "    </tr>\n",
              "    <tr>\n",
              "      <th>32074</th>\n",
              "      <td>0</td>\n",
              "      <td>0</td>\n",
              "      <td>6</td>\n",
              "      <td>0</td>\n",
              "      <td>2</td>\n",
              "      <td>0</td>\n",
              "      <td>0</td>\n",
              "      <td>6</td>\n",
              "      <td>0</td>\n",
              "      <td>0</td>\n",
              "    </tr>\n",
              "    <tr>\n",
              "      <th>10699</th>\n",
              "      <td>2</td>\n",
              "      <td>2</td>\n",
              "      <td>6</td>\n",
              "      <td>0</td>\n",
              "      <td>0</td>\n",
              "      <td>0</td>\n",
              "      <td>1</td>\n",
              "      <td>4</td>\n",
              "      <td>3</td>\n",
              "      <td>1</td>\n",
              "    </tr>\n",
              "    <tr>\n",
              "      <th>11276</th>\n",
              "      <td>1</td>\n",
              "      <td>1</td>\n",
              "      <td>0</td>\n",
              "      <td>0</td>\n",
              "      <td>0</td>\n",
              "      <td>0</td>\n",
              "      <td>1</td>\n",
              "      <td>4</td>\n",
              "      <td>2</td>\n",
              "      <td>1</td>\n",
              "    </tr>\n",
              "    <tr>\n",
              "      <th>24382</th>\n",
              "      <td>1</td>\n",
              "      <td>1</td>\n",
              "      <td>2</td>\n",
              "      <td>0</td>\n",
              "      <td>2</td>\n",
              "      <td>2</td>\n",
              "      <td>0</td>\n",
              "      <td>7</td>\n",
              "      <td>1</td>\n",
              "      <td>0</td>\n",
              "    </tr>\n",
              "    <tr>\n",
              "      <th>...</th>\n",
              "      <td>...</td>\n",
              "      <td>...</td>\n",
              "      <td>...</td>\n",
              "      <td>...</td>\n",
              "      <td>...</td>\n",
              "      <td>...</td>\n",
              "      <td>...</td>\n",
              "      <td>...</td>\n",
              "      <td>...</td>\n",
              "      <td>...</td>\n",
              "    </tr>\n",
              "    <tr>\n",
              "      <th>31044</th>\n",
              "      <td>1</td>\n",
              "      <td>2</td>\n",
              "      <td>2</td>\n",
              "      <td>1</td>\n",
              "      <td>2</td>\n",
              "      <td>0</td>\n",
              "      <td>0</td>\n",
              "      <td>6</td>\n",
              "      <td>4</td>\n",
              "      <td>1</td>\n",
              "    </tr>\n",
              "    <tr>\n",
              "      <th>25631</th>\n",
              "      <td>7</td>\n",
              "      <td>0</td>\n",
              "      <td>3</td>\n",
              "      <td>0</td>\n",
              "      <td>0</td>\n",
              "      <td>0</td>\n",
              "      <td>0</td>\n",
              "      <td>7</td>\n",
              "      <td>4</td>\n",
              "      <td>1</td>\n",
              "    </tr>\n",
              "    <tr>\n",
              "      <th>33174</th>\n",
              "      <td>0</td>\n",
              "      <td>2</td>\n",
              "      <td>6</td>\n",
              "      <td>0</td>\n",
              "      <td>2</td>\n",
              "      <td>0</td>\n",
              "      <td>0</td>\n",
              "      <td>6</td>\n",
              "      <td>3</td>\n",
              "      <td>1</td>\n",
              "    </tr>\n",
              "    <tr>\n",
              "      <th>34959</th>\n",
              "      <td>1</td>\n",
              "      <td>1</td>\n",
              "      <td>2</td>\n",
              "      <td>1</td>\n",
              "      <td>2</td>\n",
              "      <td>0</td>\n",
              "      <td>0</td>\n",
              "      <td>6</td>\n",
              "      <td>0</td>\n",
              "      <td>0</td>\n",
              "    </tr>\n",
              "    <tr>\n",
              "      <th>10863</th>\n",
              "      <td>9</td>\n",
              "      <td>1</td>\n",
              "      <td>5</td>\n",
              "      <td>0</td>\n",
              "      <td>0</td>\n",
              "      <td>0</td>\n",
              "      <td>1</td>\n",
              "      <td>4</td>\n",
              "      <td>4</td>\n",
              "      <td>1</td>\n",
              "    </tr>\n",
              "  </tbody>\n",
              "</table>\n",
              "<p>32942 rows × 10 columns</p>\n",
              "</div>"
            ],
            "text/plain": [
              "       job  marital  education  default  housing  loan  contact  month  \\\n",
              "38185    5        0          0        0        0     0        0      8   \n",
              "32074    0        0          6        0        2     0        0      6   \n",
              "10699    2        2          6        0        0     0        1      4   \n",
              "11276    1        1          0        0        0     0        1      4   \n",
              "24382    1        1          2        0        2     2        0      7   \n",
              "...    ...      ...        ...      ...      ...   ...      ...    ...   \n",
              "31044    1        2          2        1        2     0        0      6   \n",
              "25631    7        0          3        0        0     0        0      7   \n",
              "33174    0        2          6        0        2     0        0      6   \n",
              "34959    1        1          2        1        2     0        0      6   \n",
              "10863    9        1          5        0        0     0        1      4   \n",
              "\n",
              "       day_of_week  poutcome  \n",
              "38185            3         1  \n",
              "32074            0         0  \n",
              "10699            3         1  \n",
              "11276            2         1  \n",
              "24382            1         0  \n",
              "...            ...       ...  \n",
              "31044            4         1  \n",
              "25631            4         1  \n",
              "33174            3         1  \n",
              "34959            0         0  \n",
              "10863            4         1  \n",
              "\n",
              "[32942 rows x 10 columns]"
            ]
          },
          "execution_count": 23,
          "metadata": {},
          "output_type": "execute_result"
        }
      ],
      "source": [
        "features_cat = X_train_cat\n",
        "\n",
        "# Encode categorical column\n",
        "encoder = LabelEncoder() \n",
        "\n",
        "for i in features_cat:\n",
        "    if features_cat[i].dtypes == 'object':\n",
        "        features_cat[i] = encoder.fit_transform(features_cat[i])\n",
        "\n",
        "features_cat"
      ]
    },
    {
      "cell_type": "code",
      "execution_count": 24,
      "metadata": {},
      "outputs": [
        {
          "data": {
            "text/plain": [
              "Text(0.5, 1.0, 'Korelasi pada kolom Kategori')"
            ]
          },
          "execution_count": 24,
          "metadata": {},
          "output_type": "execute_result"
        },
        {
          "data": {
            "image/png": "[encoded data removed]",
            "text/plain": [
              "<Figure size 1080x360 with 2 Axes>"
            ]
          },
          "metadata": {
            "needs_background": "light"
          },
          "output_type": "display_data"
        }
      ],
      "source": [
        "# Cek kolerasi pada kolom categorikal\n",
        "df_corr_cat_y = pd.concat([features_cat, y_train], axis=1)\n",
        "\n",
        "plt.figure(figsize=(15, 5))\n",
        "sns.heatmap(df_corr_cat_y.corr(), annot = True, vmin=0, vmax=1)\n",
        "plt.title('Korelasi pada kolom Kategori')"
      ]
    },
    {
      "cell_type": "code",
      "execution_count": 25,
      "metadata": {},
      "outputs": [
        {
          "data": {
            "text/plain": [
              "Text(0.5, 1.0, 'Korelasi pada kolom Kategori')"
            ]
          },
          "execution_count": 25,
          "metadata": {},
          "output_type": "execute_result"
        },
        {
          "data": {
            "image/png": "[encoded data removed]",
            "text/plain": [
              "<Figure size 1080x360 with 2 Axes>"
            ]
          },
          "metadata": {
            "needs_background": "light"
          },
          "output_type": "display_data"
        }
      ],
      "source": [
        "# Cek Kolerasi Kolom Numerik\n",
        "df_cor_num_y = pd.concat([X_train_num,y_train], axis=1)\n",
        "\n",
        "plt.figure(figsize=(15, 5))\n",
        "sns.heatmap(df_cor_num_y.corr(), annot = True, vmin=0, vmax=1)\n",
        "plt.title('Korelasi pada kolom Kategori')"
      ]
    },
    {
      "cell_type": "markdown",
      "metadata": {},
      "source": [
        "- Exp :\n",
        "    > - untuk kolom kategorikal saya akan memakai features : Job, Education, Default, Housing, Loan, contact, dan Poutcome\n",
        "    > - Pada kolom Job Housing dan Loan walaupun kolerasi nya rendah tetapi tetap saya pakai karena saya berasumsi akan berperngaruh terhadap kolom target\n",
        "    > - Untuk Kolom Numerikal saya akan memakai feature : Campaign, Emp.var.rate, Cross.price.idx, cons.conf.idx, Euribor3m, Nr.employed\n",
        "    > - Pada kolom Pdays dan previous saya memiliki asumsi bahwa keterkaitannya tidak kuat\n",
        "    > - dan untuk kolom Duration pihak bisnis berstatment jika ingin memiliki model prediksi yang realistis kolom ini harus dibuang"
      ]
    },
    {
      "cell_type": "code",
      "execution_count": 26,
      "metadata": {},
      "outputs": [
        {
          "name": "stdout",
          "output_type": "stream",
          "text": [
            "Categorical column selected:  ['job', 'marital', 'education', 'default', 'housing', 'loan', 'contact', 'month', 'day_of_week', 'poutcome']\n",
            "Numerikal column selected:  ['age', 'duration', 'campaign', 'pdays', 'previous', 'emp.var.rate', 'cons.price.idx', 'cons.conf.idx', 'euribor3m', 'nr.employed']\n"
          ]
        }
      ],
      "source": [
        "# simpan Features selection kedalam variabel\n",
        "cat_columns_select = ['job', 'education', 'default', 'housing', 'loan', 'contact', 'poutcome'] # Total 7 kolom\n",
        "num_columns_select = ['campaign', 'emp.var.rate', 'cons.price.idx', 'cons.conf.idx', 'euribor3m', 'nr.employed'] #total 6 kolom\n",
        "\n",
        "print('Categorical column selected: ', cat_columns)\n",
        "print('Numerikal column selected: ', num_columns)"
      ]
    },
    {
      "cell_type": "code",
      "execution_count": 27,
      "metadata": {},
      "outputs": [
        {
          "name": "stdout",
          "output_type": "stream",
          "text": [
            "(32942, 7)\n",
            "(32942, 6)\n",
            "(8236, 7)\n",
            "(8236, 6)\n"
          ]
        }
      ],
      "source": [
        "# Split dataset yang sudah dilakukan selection\n",
        "X_train_fet_cat = X_train_cat_tr[cat_columns_select]\n",
        "X_test_fet_cat = X_test_cat_tr[cat_columns_select]\n",
        "\n",
        "X_train_fet_num = X_train_num_cap[num_columns_select]\n",
        "X_test_fet_num = X_test_num[num_columns_select]\n",
        "\n",
        "print (X_train_fet_cat.shape)\n",
        "print (X_train_fet_num.shape)\n",
        "print (X_test_fet_cat.shape)\n",
        "print (X_test_fet_num.shape)"
      ]
    },
    {
      "cell_type": "markdown",
      "metadata": {},
      "source": [
        "#### 5.6 Scaling dan Encoding"
      ]
    },
    {
      "cell_type": "code",
      "execution_count": 28,
      "metadata": {},
      "outputs": [
        {
          "name": "stdout",
          "output_type": "stream",
          "text": [
            "(32942, 6)\n",
            "(8236, 6)\n"
          ]
        }
      ],
      "source": [
        "# Scaling data numerik\n",
        "scaler = MinMaxScaler()\n",
        "scaler.fit(X_train_fet_num)\n",
        "\n",
        "X_train_scaled = scaler.transform(X_train_fet_num)\n",
        "X_train_scaled = pd.DataFrame(X_train_scaled)\n",
        "X_train_scaled.columns = num_columns_select\n",
        "\n",
        "X_test_scaled  = scaler.transform(X_test_fet_num)\n",
        "X_test_scaled = pd.DataFrame(X_test_scaled)\n",
        "X_test_scaled.columns = num_columns_select\n",
        "\n",
        "# Cek Baris dan kolom\n",
        "print(X_train_scaled.shape)\n",
        "print(X_test_scaled.shape)"
      ]
    },
    {
      "cell_type": "code",
      "execution_count": 29,
      "metadata": {},
      "outputs": [
        {
          "name": "stdout",
          "output_type": "stream",
          "text": [
            "(32942, 34)\n",
            "(8236, 34)\n"
          ]
        }
      ],
      "source": [
        "# One Hot Encoder\n",
        "encoder = OneHotEncoder(sparse=False)\n",
        "encoder.fit(X_train_fet_cat)\n",
        "X_train_enc = encoder.transform(X_train_fet_cat)\n",
        "X_test_enc = encoder.transform(X_test_fet_cat)\n",
        "\n",
        "# Di bentuk dalam data Frame\n",
        "X_train_enc = pd.DataFrame(X_train_enc)\n",
        "X_test_enc = pd.DataFrame(X_test_enc)\n",
        "X_train_enc.columns = encoder.get_feature_names()\n",
        "X_test_enc.columns = encoder.get_feature_names()\n",
        "\n",
        "# Print Baris dan Kolom\n",
        "print(X_train_enc.shape)\n",
        "print(X_test_enc.shape)\n"
      ]
    },
    {
      "cell_type": "code",
      "execution_count": 30,
      "metadata": {},
      "outputs": [],
      "source": [
        "# Menggabungkan data Numerikal dan kategorikal pada X_train dan X_test\n",
        "X_train_final = X_train_scaled.join(X_train_enc)\n",
        "X_test_final = X_test_scaled.join(X_test_enc)"
      ]
    },
    {
      "cell_type": "code",
      "execution_count": 31,
      "metadata": {},
      "outputs": [
        {
          "name": "stdout",
          "output_type": "stream",
          "text": [
            "(32942, 40)\n",
            "(8236, 40)\n"
          ]
        }
      ],
      "source": [
        "print(X_train_final.shape)\n",
        "print(X_test_final.shape)"
      ]
    },
    {
      "cell_type": "markdown",
      "metadata": {
        "id": "y7rl0hdSqBw4"
      },
      "source": [
        "# 6. Model Definition"
      ]
    },
    {
      "cell_type": "markdown",
      "metadata": {
        "id": "3F7biYnGqHJ1"
      },
      "source": [
        "> Bagian ini berisi cell untuk mendefinisikan model. Jelaskan alasan menggunakan suatu algoritma/model, hyperparameter yang dipakai, jenis penggunaan metrics yang dipakai, dan hal lain yang terkait dengan model."
      ]
    },
    {
      "cell_type": "code",
      "execution_count": 32,
      "metadata": {
        "id": "bdZrBc6VqEwZ"
      },
      "outputs": [
        {
          "data": {
            "text/plain": [
              "BaggingClassifier()"
            ]
          },
          "execution_count": 32,
          "metadata": {},
          "output_type": "execute_result"
        }
      ],
      "source": [
        "# Model Logistic Regresion\n",
        "# Inisiasi Model Logistic Regresion\n",
        "model_logreg = LogisticRegression()\n",
        "model_logreg.fit(X_train_final,y_train)\n",
        "\n",
        "# Model SVC\n",
        "# Inisiasi Model SVC\n",
        "model_svc = SVC()\n",
        "model_svc.fit(X_train_final,y_train)\n",
        "\n",
        "# Model Random Forest\n",
        "# Inisiasi Model Random Forest\n",
        "model_rf = RandomForestClassifier()\n",
        "model_rf.fit(X_train_final,y_train)\n",
        "\n",
        "# Model Decision Tree\n",
        "# Inisiasi Model Decision Tree\n",
        "model_dt = DecisionTreeClassifier()\n",
        "model_dt.fit(X_train_final,y_train)\n",
        "\n",
        "# Model KNN\n",
        "# Inisiasi Model KNN\n",
        "model_knn = KNeighborsClassifier()\n",
        "model_knn.fit(X_train_final,y_train)\n",
        "\n",
        "# Model Naive Bayes\n",
        "# Inisiasi Model Naive Bayes\n",
        "model_nb = GaussianNB()\n",
        "model_nb.fit(X_train_final,y_train)\n",
        "\n",
        "# Model Bagging Classifier\n",
        "# Inisiasi Model Bagging Classifier\n",
        "model_bag = BaggingClassifier()\n",
        "model_bag.fit(X_train_final,y_train)\n"
      ]
    },
    {
      "cell_type": "markdown",
      "metadata": {
        "id": "xRITFZaPqRKs"
      },
      "source": [
        "# 7. Model Training"
      ]
    },
    {
      "cell_type": "markdown",
      "metadata": {
        "id": "94Uz_7NdqV3J"
      },
      "source": [
        "> Cell pada bagian ini hanya berisi code untuk melatih model dan output yang dihasilkan. Lakukan beberapa kali proses training dengan hyperparameter yang berbeda untuk melihat hasil yang didapatkan. Analisis dan narasikan hasil ini pada bagian Model Evaluation."
      ]
    },
    {
      "cell_type": "markdown",
      "metadata": {},
      "source": [
        "#### 7.1 Model Train"
      ]
    },
    {
      "cell_type": "code",
      "execution_count": 33,
      "metadata": {
        "id": "lhJ3OKIGqS9B"
      },
      "outputs": [],
      "source": [
        "#Logistic Regresion\n",
        "# Melakukan Train Model terhadap Data Train\n",
        "y_pred_Trainlog = model_logreg.predict(X_train_final)\n",
        "# Melakukan Traing Model terhadap Data Test\n",
        "y_pred_Testlog = model_logreg.predict(X_test_final)\n",
        "\n",
        "# Model SVC\n",
        "# Melakukan Train Model terhadap Data Train\n",
        "y_pred_TrainSVC = model_svc.predict(X_train_final)\n",
        "# Melakukan Traing Model terhadap Data Test\n",
        "y_pred_TestSVC = model_svc.predict(X_test_final)\n",
        "\n",
        "# Random Forest\n",
        "# Melakukan Train Model terhadap Data Train\n",
        "y_pred_TrainRF = model_rf.predict(X_train_final)\n",
        "# Melakukan Traing Model terhadap Data Test\n",
        "y_pred_TestRF = model_rf.predict(X_test_final)\n",
        "\n",
        "# Decision Tree\n",
        "# Melakukan Train Model terhadap Data Train\n",
        "y_pred_TrainDT = model_dt.predict(X_train_final)\n",
        "# Melakukan Traing Model terhadap Data Test\n",
        "y_pred_TestDT = model_dt.predict(X_test_final)\n",
        "\n",
        "# KNN\n",
        "# Melakukan Train Model terhadap Data Train\n",
        "y_pred_TrainKNN = model_knn.predict(X_train_final)\n",
        "# Melakukan Traing Model terhadap Data Test\n",
        "y_pred_TestKNN = model_knn.predict(X_test_final)\n",
        "\n",
        "# Naive Bayes\n",
        "# Melakukan Train Model terhadap Data Train\n",
        "y_pred_TrainNB = model_nb.predict(X_train_final)\n",
        "# Melakukan Traing Model terhadap Data Test\n",
        "y_pred_TestNB = model_nb.predict(X_test_final)\n",
        "\n",
        "# Bagging Classifier\n",
        "# Melakukan Train Model terhadap Data Train\n",
        "y_pred_TrainBG = model_bag.predict(X_train_final)\n",
        "# Melakukan Traing Model terhadap Data Test\n",
        "y_pred_TestBG = model_bag.predict(X_test_final)"
      ]
    },
    {
      "cell_type": "markdown",
      "metadata": {},
      "source": [
        "#### 7.2 Cross Validation"
      ]
    },
    {
      "cell_type": "code",
      "execution_count": 34,
      "metadata": {},
      "outputs": [
        {
          "name": "stdout",
          "output_type": "stream",
          "text": [
            "Accuracy - All - Cross Validation  :  [0.89918951 0.90019124 0.89936248]\n",
            "Accuracy - Mean - Cross Validation :  0.899581075265678\n",
            "Accuracy - Std - Cross Validation  :  0.0004371915709748102\n",
            "Accuracy - Range of Test-Set       :  0.8991438836947032 - 0.9000182668366528\n"
          ]
        }
      ],
      "source": [
        "# Cross Validation Model Logistic Regresion\n",
        "train_crossval_logreg = cross_val_score(model_logreg, \n",
        "                                      X_train_final, \n",
        "                                      y_train, \n",
        "                                      cv=3, scoring=\"accuracy\")\n",
        "\n",
        "print('Accuracy - All - Cross Validation  : ', train_crossval_logreg)\n",
        "print('Accuracy - Mean - Cross Validation : ', train_crossval_logreg.mean())\n",
        "print('Accuracy - Std - Cross Validation  : ', train_crossval_logreg.std())\n",
        "print('Accuracy - Range of Test-Set       : ', (train_crossval_logreg.mean()-train_crossval_logreg.std()) , '-', (train_crossval_logreg.mean()+train_crossval_logreg.std()))"
      ]
    },
    {
      "cell_type": "code",
      "execution_count": 35,
      "metadata": {},
      "outputs": [
        {
          "name": "stdout",
          "output_type": "stream",
          "text": [
            "Accuracy - All - Cross Validation  :  [0.89882524 0.89873418 0.89763206]\n",
            "Accuracy - Mean - Cross Validation :  0.8983971597018575\n",
            "Accuracy - Std - Cross Validation  :  0.000542284305555311\n",
            "Accuracy - Range of Test-Set       :  0.8978548753963022 - 0.8989394440074129\n"
          ]
        }
      ],
      "source": [
        "# Cross Validation Model SVC\n",
        "train_crossval_svc = cross_val_score(model_svc, \n",
        "                                      X_train_final, \n",
        "                                      y_train, \n",
        "                                      cv=3, scoring=\"accuracy\")\n",
        "\n",
        "print('Accuracy - All - Cross Validation  : ', train_crossval_svc)\n",
        "print('Accuracy - Mean - Cross Validation : ', train_crossval_svc.mean())\n",
        "print('Accuracy - Std - Cross Validation  : ', train_crossval_svc.std())\n",
        "print('Accuracy - Range of Test-Set       : ', (train_crossval_svc.mean()-train_crossval_svc.std()) , '-', (train_crossval_svc.mean()+train_crossval_svc.std()))"
      ]
    },
    {
      "cell_type": "code",
      "execution_count": 36,
      "metadata": {},
      "outputs": [
        {
          "name": "stdout",
          "output_type": "stream",
          "text": [
            "Accuracy - All - Cross Validation  :  [0.88598488 0.88716875 0.88369763]\n",
            "Accuracy - Mean - Cross Validation :  0.8856170870179417\n",
            "Accuracy - Std - Cross Validation  :  0.0014407436572127011\n",
            "Accuracy - Range of Test-Set       :  0.884176343360729 - 0.8870578306751544\n"
          ]
        }
      ],
      "source": [
        "# Cross Validation Model Random Forest\n",
        "train_crossval_rf = cross_val_score(model_rf, \n",
        "                                      X_train_final, \n",
        "                                      y_train, \n",
        "                                      cv=3, scoring=\"accuracy\")\n",
        "\n",
        "print('Accuracy - All - Cross Validation  : ', train_crossval_rf)\n",
        "print('Accuracy - Mean - Cross Validation : ', train_crossval_rf.mean())\n",
        "print('Accuracy - Std - Cross Validation  : ', train_crossval_rf.std())\n",
        "print('Accuracy - Range of Test-Set       : ', (train_crossval_rf.mean()-train_crossval_rf.std()) , '-', (train_crossval_rf.mean()+train_crossval_rf.std()))"
      ]
    },
    {
      "cell_type": "code",
      "execution_count": 37,
      "metadata": {},
      "outputs": [
        {
          "name": "stdout",
          "output_type": "stream",
          "text": [
            "Accuracy - All - Cross Validation  :  [0.84527821 0.84564247 0.83770492]\n",
            "Accuracy - Mean - Cross Validation :  0.8428751997364549\n",
            "Accuracy - Std - Cross Validation  :  0.0036589645182862635\n",
            "Accuracy - Range of Test-Set       :  0.8392162352181686 - 0.8465341642547412\n"
          ]
        }
      ],
      "source": [
        "# Cross Validation Model Decision Tree\n",
        "train_crossval_dt = cross_val_score(model_dt, \n",
        "                                      X_train_final, \n",
        "                                      y_train, \n",
        "                                      cv=3, scoring=\"accuracy\")\n",
        "\n",
        "print('Accuracy - All - Cross Validation  : ', train_crossval_dt)\n",
        "print('Accuracy - Mean - Cross Validation : ', train_crossval_dt.mean())\n",
        "print('Accuracy - Std - Cross Validation  : ', train_crossval_dt.std())\n",
        "print('Accuracy - Range of Test-Set       : ', (train_crossval_dt.mean()-train_crossval_dt.std()) , '-', (train_crossval_dt.mean()+train_crossval_dt.std()))"
      ]
    },
    {
      "cell_type": "code",
      "execution_count": 38,
      "metadata": {},
      "outputs": [
        {
          "name": "stdout",
          "output_type": "stream",
          "text": [
            "Accuracy - All - Cross Validation  :  [0.891631   0.89363446 0.89107468]\n",
            "Accuracy - Mean - Cross Validation :  0.8921133799192921\n",
            "Accuracy - Std - Cross Validation  :  0.0010992830173813949\n",
            "Accuracy - Range of Test-Set       :  0.8910140969019107 - 0.8932126629366735\n"
          ]
        }
      ],
      "source": [
        "# Cross Validation Model KNN\n",
        "train_crossval_knn = cross_val_score(model_knn, \n",
        "                                      X_train_final, \n",
        "                                      y_train, \n",
        "                                      cv=3, scoring=\"accuracy\")\n",
        "\n",
        "print('Accuracy - All - Cross Validation  : ', train_crossval_knn)\n",
        "print('Accuracy - Mean - Cross Validation : ', train_crossval_knn.mean())\n",
        "print('Accuracy - Std - Cross Validation  : ', train_crossval_knn.std())\n",
        "print('Accuracy - Range of Test-Set       : ', (train_crossval_knn.mean()-train_crossval_knn.std()) , '-', (train_crossval_knn.mean()+train_crossval_knn.std()))"
      ]
    },
    {
      "cell_type": "code",
      "execution_count": 39,
      "metadata": {},
      "outputs": [
        {
          "name": "stdout",
          "output_type": "stream",
          "text": [
            "Accuracy - All - Cross Validation  :  [0.62161916 0.63965031 0.61393443]\n",
            "Accuracy - Mean - Cross Validation :  0.625067963889938\n",
            "Accuracy - Std - Cross Validation  :  0.01077798034468787\n",
            "Accuracy - Range of Test-Set       :  0.6142899835452501 - 0.6358459442346259\n"
          ]
        }
      ],
      "source": [
        "# Cross Validation Model Naive Bayes\n",
        "train_crossval_nb = cross_val_score(model_nb, \n",
        "                                      X_train_final, \n",
        "                                      y_train, \n",
        "                                      cv=3, scoring=\"accuracy\")\n",
        "\n",
        "print('Accuracy - All - Cross Validation  : ', train_crossval_nb)\n",
        "print('Accuracy - Mean - Cross Validation : ', train_crossval_nb.mean())\n",
        "print('Accuracy - Std - Cross Validation  : ', train_crossval_nb.std())\n",
        "print('Accuracy - Range of Test-Set       : ', (train_crossval_nb.mean()-train_crossval_nb.std()) , '-', (train_crossval_nb.mean()+train_crossval_nb.std()))"
      ]
    },
    {
      "cell_type": "code",
      "execution_count": 40,
      "metadata": {},
      "outputs": [
        {
          "name": "stdout",
          "output_type": "stream",
          "text": [
            "Accuracy - All - Cross Validation  :  [0.87760678 0.87341772 0.87431694]\n",
            "Accuracy - Mean - Cross Validation :  0.8751138122496399\n",
            "Accuracy - Std - Cross Validation  :  0.0018006104787961553\n",
            "Accuracy - Range of Test-Set       :  0.8733132017708437 - 0.8769144227284361\n"
          ]
        }
      ],
      "source": [
        "# Cross Validation Model Bagging Classifier\n",
        "train_crossval_bag = cross_val_score(model_bag, \n",
        "                                      X_train_final, \n",
        "                                      y_train, \n",
        "                                      cv=3, scoring=\"accuracy\")\n",
        "\n",
        "print('Accuracy - All - Cross Validation  : ', train_crossval_bag)\n",
        "print('Accuracy - Mean - Cross Validation : ', train_crossval_bag.mean())\n",
        "print('Accuracy - Std - Cross Validation  : ', train_crossval_bag.std())\n",
        "print('Accuracy - Range of Test-Set       : ', (train_crossval_bag.mean()-train_crossval_bag.std()) , '-', (train_crossval_bag.mean()+train_crossval_bag.std()))"
      ]
    },
    {
      "cell_type": "markdown",
      "metadata": {
        "id": "clJG2mOSqX6Q"
      },
      "source": [
        "# 8. Model Evaluation"
      ]
    },
    {
      "cell_type": "markdown",
      "metadata": {
        "id": "UEhgiE1eqcB5"
      },
      "source": [
        "> Pada bagian ini, dilakukan evaluasi model yang harus menunjukkan bagaimana performa model berdasarkan metrics yang dipilih. Hal ini harus dibuktikan dengan visualisasi tren performa dan/atau tingkat kesalahan model. **Lakukan analisis terkait dengan hasil pada model dan tuliskan hasil analisisnya**."
      ]
    },
    {
      "cell_type": "markdown",
      "metadata": {},
      "source": [
        "#### 8.1 Model Against Test"
      ]
    },
    {
      "cell_type": "code",
      "execution_count": 41,
      "metadata": {
        "id": "NtIIeLSGqbaB"
      },
      "outputs": [
        {
          "name": "stdout",
          "output_type": "stream",
          "text": [
            "Accuracy - Train Set  :  0.897887323943662 \n",
            "\n",
            "Classification Report : \n",
            "               precision    recall  f1-score   support\n",
            "\n",
            "           0       0.74      0.19      0.30       962\n",
            "           1       0.90      0.99      0.94      7274\n",
            "\n",
            "    accuracy                           0.90      8236\n",
            "   macro avg       0.82      0.59      0.62      8236\n",
            "weighted avg       0.88      0.90      0.87      8236\n",
            " \n",
            "\n"
          ]
        }
      ],
      "source": [
        "# Check Performance Model against Test-Set Logistic Regresion\n",
        "\n",
        "print('Accuracy - Train Set  : ', accuracy_score(y_test, y_pred_Testlog), '\\n')\n",
        "print('Classification Report : \\n', classification_report(y_test, y_pred_Testlog), '\\n')"
      ]
    },
    {
      "cell_type": "code",
      "execution_count": 42,
      "metadata": {},
      "outputs": [
        {
          "name": "stdout",
          "output_type": "stream",
          "text": [
            "Accuracy - Train Set  :  0.8984944147644488 \n",
            "\n",
            "Classification Report : \n",
            "               precision    recall  f1-score   support\n",
            "\n",
            "           0       0.77      0.19      0.30       962\n",
            "           1       0.90      0.99      0.95      7274\n",
            "\n",
            "    accuracy                           0.90      8236\n",
            "   macro avg       0.84      0.59      0.62      8236\n",
            "weighted avg       0.89      0.90      0.87      8236\n",
            " \n",
            "\n"
          ]
        }
      ],
      "source": [
        "# Check Performance Model against Train-Set SVC\n",
        "\n",
        "print('Accuracy - Train Set  : ', accuracy_score(y_test, y_pred_TestSVC), '\\n')\n",
        "print('Classification Report : \\n', classification_report(y_test, y_pred_TestSVC), '\\n')"
      ]
    },
    {
      "cell_type": "code",
      "execution_count": 43,
      "metadata": {},
      "outputs": [
        {
          "name": "stdout",
          "output_type": "stream",
          "text": [
            "Accuracy - Train Set  :  0.8838028169014085 \n",
            "\n",
            "Classification Report : \n",
            "               precision    recall  f1-score   support\n",
            "\n",
            "           0       0.50      0.29      0.37       962\n",
            "           1       0.91      0.96      0.94      7274\n",
            "\n",
            "    accuracy                           0.88      8236\n",
            "   macro avg       0.71      0.62      0.65      8236\n",
            "weighted avg       0.86      0.88      0.87      8236\n",
            " \n",
            "\n"
          ]
        }
      ],
      "source": [
        "# Check Performance Model against Train-Set Random Forest\n",
        "\n",
        "print('Accuracy - Train Set  : ', accuracy_score(y_test, y_pred_TestRF), '\\n')\n",
        "print('Classification Report : \\n', classification_report(y_test, y_pred_TestRF), '\\n')"
      ]
    },
    {
      "cell_type": "code",
      "execution_count": 44,
      "metadata": {},
      "outputs": [
        {
          "name": "stdout",
          "output_type": "stream",
          "text": [
            "Accuracy - Train Set  :  0.8442204953861098 \n",
            "\n",
            "Classification Report : \n",
            "               precision    recall  f1-score   support\n",
            "\n",
            "           0       0.34      0.34      0.34       962\n",
            "           1       0.91      0.91      0.91      7274\n",
            "\n",
            "    accuracy                           0.84      8236\n",
            "   macro avg       0.62      0.63      0.63      8236\n",
            "weighted avg       0.85      0.84      0.84      8236\n",
            " \n",
            "\n"
          ]
        }
      ],
      "source": [
        "# Check Performance Model against Train-Set Decision Tree\n",
        "\n",
        "print('Accuracy - Train Set  : ', accuracy_score(y_test, y_pred_TestDT), '\\n')\n",
        "print('Classification Report : \\n', classification_report(y_test, y_pred_TestDT), '\\n')"
      ]
    },
    {
      "cell_type": "code",
      "execution_count": 45,
      "metadata": {},
      "outputs": [
        {
          "name": "stdout",
          "output_type": "stream",
          "text": [
            "Accuracy - Train Set  :  0.8875667799902865 \n",
            "\n",
            "Classification Report : \n",
            "               precision    recall  f1-score   support\n",
            "\n",
            "           0       0.54      0.24      0.34       962\n",
            "           1       0.91      0.97      0.94      7274\n",
            "\n",
            "    accuracy                           0.89      8236\n",
            "   macro avg       0.72      0.61      0.64      8236\n",
            "weighted avg       0.86      0.89      0.87      8236\n",
            " \n",
            "\n"
          ]
        }
      ],
      "source": [
        "# Check Performance Model against Train-Set KNN\n",
        "\n",
        "print('Accuracy - Train Set  : ', accuracy_score(y_test, y_pred_TestKNN), '\\n')\n",
        "print('Classification Report : \\n', classification_report(y_test, y_pred_TestKNN), '\\n')"
      ]
    },
    {
      "cell_type": "code",
      "execution_count": 46,
      "metadata": {},
      "outputs": [
        {
          "name": "stdout",
          "output_type": "stream",
          "text": [
            "Accuracy - Train Set  :  0.6407236522583779 \n",
            "\n",
            "Classification Report : \n",
            "               precision    recall  f1-score   support\n",
            "\n",
            "           0       0.21      0.76      0.33       962\n",
            "           1       0.95      0.62      0.75      7274\n",
            "\n",
            "    accuracy                           0.64      8236\n",
            "   macro avg       0.58      0.69      0.54      8236\n",
            "weighted avg       0.87      0.64      0.70      8236\n",
            " \n",
            "\n"
          ]
        }
      ],
      "source": [
        "# Check Performance Model against Train-Set Naive Bayes\n",
        "\n",
        "print('Accuracy - Train Set  : ', accuracy_score(y_test, y_pred_TestNB), '\\n')\n",
        "print('Classification Report : \\n', classification_report(y_test, y_pred_TestNB), '\\n')"
      ]
    },
    {
      "cell_type": "code",
      "execution_count": 47,
      "metadata": {},
      "outputs": [
        {
          "name": "stdout",
          "output_type": "stream",
          "text": [
            "Accuracy - Train Set  :  0.8779747450218552 \n",
            "\n",
            "Classification Report : \n",
            "               precision    recall  f1-score   support\n",
            "\n",
            "           0       0.47      0.35      0.40       962\n",
            "           1       0.92      0.95      0.93      7274\n",
            "\n",
            "    accuracy                           0.88      8236\n",
            "   macro avg       0.69      0.65      0.66      8236\n",
            "weighted avg       0.86      0.88      0.87      8236\n",
            " \n",
            "\n"
          ]
        }
      ],
      "source": [
        "# Check Performance Model against Train-Set Bagging Classifier\n",
        "\n",
        "print('Accuracy - Train Set  : ', accuracy_score(y_test, y_pred_TestBG), '\\n')\n",
        "print('Classification Report : \\n', classification_report(y_test, y_pred_TestBG), '\\n')"
      ]
    },
    {
      "cell_type": "markdown",
      "metadata": {},
      "source": [
        "#### 8.2 Hyperparameter tunning"
      ]
    },
    {
      "cell_type": "code",
      "execution_count": 48,
      "metadata": {},
      "outputs": [
        {
          "data": {
            "text/plain": [
              "{'n_estimators': [10, 1000, 10],\n",
              " 'max_features': ['auto', 'sqrt', 'log2'],\n",
              " 'criterion': ['entropy', 'gini']}"
            ]
          },
          "execution_count": 48,
          "metadata": {},
          "output_type": "execute_result"
        }
      ],
      "source": [
        "n_estimators = [10, 1000, 10]\n",
        "max_features = ['auto', 'sqrt', 'log2']\n",
        "param_grid = {'n_estimators': n_estimators,\n",
        "               'max_features':max_features,\n",
        "               'criterion':['entropy','gini']}\n",
        "param_grid"
      ]
    },
    {
      "cell_type": "code",
      "execution_count": 49,
      "metadata": {},
      "outputs": [
        {
          "name": "stdout",
          "output_type": "stream",
          "text": [
            "Fitting 2 folds for each of 18 candidates, totalling 36 fits\n"
          ]
        },
        {
          "data": {
            "text/plain": [
              "GridSearchCV(cv=2, estimator=RandomForestClassifier(), n_jobs=-1,\n",
              "             param_grid={'criterion': ['entropy', 'gini'],\n",
              "                         'max_features': ['auto', 'sqrt', 'log2'],\n",
              "                         'n_estimators': [10, 1000, 10]},\n",
              "             verbose=2)"
            ]
          },
          "execution_count": 49,
          "metadata": {},
          "output_type": "execute_result"
        }
      ],
      "source": [
        "rf_gridcv = GridSearchCV(estimator=RandomForestClassifier(),\n",
        "                         param_grid=param_grid,\n",
        "                         cv=2,\n",
        "                         n_jobs=-1,\n",
        "                         verbose=2)\n",
        "\n",
        "rf_gridcv.fit(X_train_final, y_train)"
      ]
    },
    {
      "cell_type": "markdown",
      "metadata": {},
      "source": [
        "#### 8.3 GridsearchCV"
      ]
    },
    {
      "cell_type": "code",
      "execution_count": 50,
      "metadata": {},
      "outputs": [
        {
          "data": {
            "text/plain": [
              "{'criterion': 'gini', 'max_features': 'sqrt', 'n_estimators': 1000}"
            ]
          },
          "execution_count": 50,
          "metadata": {},
          "output_type": "execute_result"
        }
      ],
      "source": [
        "# Mendapatkan parameter terbaik\n",
        "rf_gridcv.best_params_"
      ]
    },
    {
      "cell_type": "code",
      "execution_count": 51,
      "metadata": {},
      "outputs": [],
      "source": [
        "# Mendapatkan estimator terbaik\n",
        "rf_gridcv_best = rf_gridcv.best_estimator_"
      ]
    },
    {
      "cell_type": "markdown",
      "metadata": {},
      "source": [
        "### 8.4 Predict setelah hyperparameter tuning"
      ]
    },
    {
      "cell_type": "code",
      "execution_count": 52,
      "metadata": {},
      "outputs": [
        {
          "name": "stdout",
          "output_type": "stream",
          "text": [
            "Accuracy - Train Set  :  0.8838028169014085 \n",
            "\n",
            "Classification Report : \n",
            "               precision    recall  f1-score   support\n",
            "\n",
            "           0       0.50      0.29      0.37       962\n",
            "           1       0.91      0.96      0.94      7274\n",
            "\n",
            "    accuracy                           0.88      8236\n",
            "   macro avg       0.71      0.63      0.65      8236\n",
            "weighted avg       0.86      0.88      0.87      8236\n",
            " \n",
            "\n"
          ]
        }
      ],
      "source": [
        "# Check Performance Model against Train-Set Random Forest\n",
        "\n",
        "y_pred_best = rf_gridcv_best.predict(X_test_final)\n",
        "print('Accuracy - Train Set  : ', accuracy_score(y_test, y_pred_best), '\\n')\n",
        "print('Classification Report : \\n', classification_report(y_test, y_pred_best), '\\n')"
      ]
    },
    {
      "cell_type": "markdown",
      "metadata": {
        "id": "ToJ9uIL-qfUi"
      },
      "source": [
        "# 9. Model Inference"
      ]
    },
    {
      "cell_type": "markdown",
      "metadata": {
        "id": "qmuzwgc8qlCJ"
      },
      "source": [
        "> Model yang sudah dilatih akan dicoba pada data yang bukan termasuk ke dalam train-set ataupun test-set. Data ini harus dalam format yang asli, bukan data yang sudah di-scaled."
      ]
    },
    {
      "cell_type": "code",
      "execution_count": 53,
      "metadata": {
        "id": "eUm47Gc4qkkv"
      },
      "outputs": [
        {
          "data": {
            "text/html": [
              "<div>\n",
              "<style scoped>\n",
              "    .dataframe tbody tr th:only-of-type {\n",
              "        vertical-align: middle;\n",
              "    }\n",
              "\n",
              "    .dataframe tbody tr th {\n",
              "        vertical-align: top;\n",
              "    }\n",
              "\n",
              "    .dataframe thead th {\n",
              "        text-align: right;\n",
              "    }\n",
              "</style>\n",
              "<table border=\"1\" class=\"dataframe\">\n",
              "  <thead>\n",
              "    <tr style=\"text-align: right;\">\n",
              "      <th></th>\n",
              "      <th>age</th>\n",
              "      <th>job</th>\n",
              "      <th>marital</th>\n",
              "      <th>education</th>\n",
              "      <th>default</th>\n",
              "      <th>housing</th>\n",
              "      <th>loan</th>\n",
              "      <th>contact</th>\n",
              "      <th>month</th>\n",
              "      <th>day_of_week</th>\n",
              "      <th>...</th>\n",
              "      <th>campaign</th>\n",
              "      <th>pdays</th>\n",
              "      <th>previous</th>\n",
              "      <th>poutcome</th>\n",
              "      <th>emp.var.rate</th>\n",
              "      <th>cons.price.idx</th>\n",
              "      <th>cons.conf.idx</th>\n",
              "      <th>euribor3m</th>\n",
              "      <th>nr.employed</th>\n",
              "      <th>y</th>\n",
              "    </tr>\n",
              "  </thead>\n",
              "  <tbody>\n",
              "    <tr>\n",
              "      <th>0</th>\n",
              "      <td>25</td>\n",
              "      <td>student</td>\n",
              "      <td>single</td>\n",
              "      <td>high.school</td>\n",
              "      <td>no</td>\n",
              "      <td>yes</td>\n",
              "      <td>no</td>\n",
              "      <td>cellular</td>\n",
              "      <td>may</td>\n",
              "      <td>mon</td>\n",
              "      <td>...</td>\n",
              "      <td>3</td>\n",
              "      <td>999</td>\n",
              "      <td>0</td>\n",
              "      <td>nonexistent</td>\n",
              "      <td>-1.8</td>\n",
              "      <td>92.893</td>\n",
              "      <td>-46.2</td>\n",
              "      <td>1.244</td>\n",
              "      <td>5099.1</td>\n",
              "      <td>no</td>\n",
              "    </tr>\n",
              "    <tr>\n",
              "      <th>1</th>\n",
              "      <td>36</td>\n",
              "      <td>management</td>\n",
              "      <td>married</td>\n",
              "      <td>university.degree</td>\n",
              "      <td>no</td>\n",
              "      <td>no</td>\n",
              "      <td>no</td>\n",
              "      <td>cellular</td>\n",
              "      <td>aug</td>\n",
              "      <td>mon</td>\n",
              "      <td>...</td>\n",
              "      <td>2</td>\n",
              "      <td>999</td>\n",
              "      <td>0</td>\n",
              "      <td>nonexistent</td>\n",
              "      <td>-2.9</td>\n",
              "      <td>92.201</td>\n",
              "      <td>-31.4</td>\n",
              "      <td>0.884</td>\n",
              "      <td>5076.2</td>\n",
              "      <td>no</td>\n",
              "    </tr>\n",
              "    <tr>\n",
              "      <th>2</th>\n",
              "      <td>88</td>\n",
              "      <td>retired</td>\n",
              "      <td>divorced</td>\n",
              "      <td>basic.4y</td>\n",
              "      <td>no</td>\n",
              "      <td>yes</td>\n",
              "      <td>yes</td>\n",
              "      <td>cellular</td>\n",
              "      <td>mar</td>\n",
              "      <td>wed</td>\n",
              "      <td>...</td>\n",
              "      <td>5</td>\n",
              "      <td>999</td>\n",
              "      <td>0</td>\n",
              "      <td>nonexistent</td>\n",
              "      <td>-1.8</td>\n",
              "      <td>92.843</td>\n",
              "      <td>-50.0</td>\n",
              "      <td>1.663</td>\n",
              "      <td>5099.1</td>\n",
              "      <td>yes</td>\n",
              "    </tr>\n",
              "    <tr>\n",
              "      <th>3</th>\n",
              "      <td>38</td>\n",
              "      <td>blue-collar</td>\n",
              "      <td>married</td>\n",
              "      <td>unknown</td>\n",
              "      <td>no</td>\n",
              "      <td>yes</td>\n",
              "      <td>yes</td>\n",
              "      <td>cellular</td>\n",
              "      <td>jul</td>\n",
              "      <td>wed</td>\n",
              "      <td>...</td>\n",
              "      <td>2</td>\n",
              "      <td>999</td>\n",
              "      <td>0</td>\n",
              "      <td>nonexistent</td>\n",
              "      <td>1.4</td>\n",
              "      <td>93.918</td>\n",
              "      <td>-42.7</td>\n",
              "      <td>4.963</td>\n",
              "      <td>5228.1</td>\n",
              "      <td>no</td>\n",
              "    </tr>\n",
              "    <tr>\n",
              "      <th>4</th>\n",
              "      <td>35</td>\n",
              "      <td>technician</td>\n",
              "      <td>married</td>\n",
              "      <td>university.degree</td>\n",
              "      <td>no</td>\n",
              "      <td>no</td>\n",
              "      <td>no</td>\n",
              "      <td>cellular</td>\n",
              "      <td>apr</td>\n",
              "      <td>mon</td>\n",
              "      <td>...</td>\n",
              "      <td>1</td>\n",
              "      <td>999</td>\n",
              "      <td>0</td>\n",
              "      <td>nonexistent</td>\n",
              "      <td>-1.8</td>\n",
              "      <td>93.075</td>\n",
              "      <td>-47.1</td>\n",
              "      <td>1.405</td>\n",
              "      <td>5099.1</td>\n",
              "      <td>no</td>\n",
              "    </tr>\n",
              "    <tr>\n",
              "      <th>5</th>\n",
              "      <td>35</td>\n",
              "      <td>self-employed</td>\n",
              "      <td>married</td>\n",
              "      <td>high.school</td>\n",
              "      <td>no</td>\n",
              "      <td>no</td>\n",
              "      <td>no</td>\n",
              "      <td>cellular</td>\n",
              "      <td>jul</td>\n",
              "      <td>mon</td>\n",
              "      <td>...</td>\n",
              "      <td>3</td>\n",
              "      <td>999</td>\n",
              "      <td>0</td>\n",
              "      <td>nonexistent</td>\n",
              "      <td>1.4</td>\n",
              "      <td>93.918</td>\n",
              "      <td>-42.7</td>\n",
              "      <td>4.960</td>\n",
              "      <td>5228.1</td>\n",
              "      <td>no</td>\n",
              "    </tr>\n",
              "    <tr>\n",
              "      <th>6</th>\n",
              "      <td>38</td>\n",
              "      <td>student</td>\n",
              "      <td>divorced</td>\n",
              "      <td>unknown</td>\n",
              "      <td>no</td>\n",
              "      <td>no</td>\n",
              "      <td>no</td>\n",
              "      <td>cellular</td>\n",
              "      <td>may</td>\n",
              "      <td>tue</td>\n",
              "      <td>...</td>\n",
              "      <td>3</td>\n",
              "      <td>999</td>\n",
              "      <td>0</td>\n",
              "      <td>nonexistent</td>\n",
              "      <td>-1.8</td>\n",
              "      <td>92.893</td>\n",
              "      <td>-46.2</td>\n",
              "      <td>1.291</td>\n",
              "      <td>5099.1</td>\n",
              "      <td>no</td>\n",
              "    </tr>\n",
              "    <tr>\n",
              "      <th>7</th>\n",
              "      <td>33</td>\n",
              "      <td>services</td>\n",
              "      <td>single</td>\n",
              "      <td>high.school</td>\n",
              "      <td>no</td>\n",
              "      <td>no</td>\n",
              "      <td>no</td>\n",
              "      <td>telephone</td>\n",
              "      <td>may</td>\n",
              "      <td>mon</td>\n",
              "      <td>...</td>\n",
              "      <td>5</td>\n",
              "      <td>999</td>\n",
              "      <td>0</td>\n",
              "      <td>nonexistent</td>\n",
              "      <td>1.1</td>\n",
              "      <td>93.994</td>\n",
              "      <td>-36.4</td>\n",
              "      <td>4.857</td>\n",
              "      <td>5191.0</td>\n",
              "      <td>no</td>\n",
              "    </tr>\n",
              "    <tr>\n",
              "      <th>8</th>\n",
              "      <td>38</td>\n",
              "      <td>unemployed</td>\n",
              "      <td>divorced</td>\n",
              "      <td>professional.course</td>\n",
              "      <td>no</td>\n",
              "      <td>no</td>\n",
              "      <td>no</td>\n",
              "      <td>telephone</td>\n",
              "      <td>may</td>\n",
              "      <td>wed</td>\n",
              "      <td>...</td>\n",
              "      <td>3</td>\n",
              "      <td>999</td>\n",
              "      <td>0</td>\n",
              "      <td>nonexistent</td>\n",
              "      <td>1.1</td>\n",
              "      <td>93.994</td>\n",
              "      <td>-36.4</td>\n",
              "      <td>4.856</td>\n",
              "      <td>5191.0</td>\n",
              "      <td>no</td>\n",
              "    </tr>\n",
              "    <tr>\n",
              "      <th>9</th>\n",
              "      <td>51</td>\n",
              "      <td>admin.</td>\n",
              "      <td>married</td>\n",
              "      <td>basic.9y</td>\n",
              "      <td>no</td>\n",
              "      <td>no</td>\n",
              "      <td>yes</td>\n",
              "      <td>cellular</td>\n",
              "      <td>nov</td>\n",
              "      <td>tue</td>\n",
              "      <td>...</td>\n",
              "      <td>5</td>\n",
              "      <td>999</td>\n",
              "      <td>0</td>\n",
              "      <td>nonexistent</td>\n",
              "      <td>-0.1</td>\n",
              "      <td>93.200</td>\n",
              "      <td>-42.0</td>\n",
              "      <td>4.153</td>\n",
              "      <td>5195.8</td>\n",
              "      <td>no</td>\n",
              "    </tr>\n",
              "  </tbody>\n",
              "</table>\n",
              "<p>10 rows × 21 columns</p>\n",
              "</div>"
            ],
            "text/plain": [
              "   age            job   marital            education default housing loan  \\\n",
              "0   25        student    single          high.school      no     yes   no   \n",
              "1   36     management   married    university.degree      no      no   no   \n",
              "2   88        retired  divorced             basic.4y      no     yes  yes   \n",
              "3   38    blue-collar   married              unknown      no     yes  yes   \n",
              "4   35     technician   married    university.degree      no      no   no   \n",
              "5   35  self-employed   married          high.school      no      no   no   \n",
              "6   38        student  divorced              unknown      no      no   no   \n",
              "7   33       services    single          high.school      no      no   no   \n",
              "8   38     unemployed  divorced  professional.course      no      no   no   \n",
              "9   51         admin.   married             basic.9y      no      no  yes   \n",
              "\n",
              "     contact month day_of_week  ...  campaign  pdays  previous     poutcome  \\\n",
              "0   cellular   may         mon  ...         3    999         0  nonexistent   \n",
              "1   cellular   aug         mon  ...         2    999         0  nonexistent   \n",
              "2   cellular   mar         wed  ...         5    999         0  nonexistent   \n",
              "3   cellular   jul         wed  ...         2    999         0  nonexistent   \n",
              "4   cellular   apr         mon  ...         1    999         0  nonexistent   \n",
              "5   cellular   jul         mon  ...         3    999         0  nonexistent   \n",
              "6   cellular   may         tue  ...         3    999         0  nonexistent   \n",
              "7  telephone   may         mon  ...         5    999         0  nonexistent   \n",
              "8  telephone   may         wed  ...         3    999         0  nonexistent   \n",
              "9   cellular   nov         tue  ...         5    999         0  nonexistent   \n",
              "\n",
              "  emp.var.rate  cons.price.idx  cons.conf.idx  euribor3m  nr.employed    y  \n",
              "0         -1.8          92.893          -46.2      1.244       5099.1   no  \n",
              "1         -2.9          92.201          -31.4      0.884       5076.2   no  \n",
              "2         -1.8          92.843          -50.0      1.663       5099.1  yes  \n",
              "3          1.4          93.918          -42.7      4.963       5228.1   no  \n",
              "4         -1.8          93.075          -47.1      1.405       5099.1   no  \n",
              "5          1.4          93.918          -42.7      4.960       5228.1   no  \n",
              "6         -1.8          92.893          -46.2      1.291       5099.1   no  \n",
              "7          1.1          93.994          -36.4      4.857       5191.0   no  \n",
              "8          1.1          93.994          -36.4      4.856       5191.0   no  \n",
              "9         -0.1          93.200          -42.0      4.153       5195.8   no  \n",
              "\n",
              "[10 rows x 21 columns]"
            ]
          },
          "execution_count": 53,
          "metadata": {},
          "output_type": "execute_result"
        }
      ],
      "source": [
        "# Cek kembali data inference yg sudah kita split di awal\n",
        "df_inf"
      ]
    },
    {
      "cell_type": "code",
      "execution_count": 54,
      "metadata": {},
      "outputs": [
        {
          "name": "stdout",
          "output_type": "stream",
          "text": [
            "(10, 7)\n",
            "(10, 6)\n"
          ]
        }
      ],
      "source": [
        "# Split data inference train dan test\n",
        "X_inf = df_inf.drop('y', axis=1)\n",
        "y_inf = df_inf['y']\n",
        "\n",
        "# Split data numerik dan kategori\n",
        "X_inf_cat = X_inf[cat_columns_select]\n",
        "X_inf_num = X_inf[num_columns_select]\n",
        "\n",
        "# Label Encode\n",
        "y_inf = y_inf.replace({'yes':0,'no':1})\n",
        "\n",
        "print (X_inf_cat.shape)\n",
        "print (X_inf_num.shape)"
      ]
    },
    {
      "cell_type": "code",
      "execution_count": 55,
      "metadata": {},
      "outputs": [],
      "source": [
        "# Hamdling missing value data inference kategori\n",
        "imputer_catif = SimpleImputer(strategy=\"most_frequent\")\n",
        "imputer_catif.fit(X_inf_cat)\n",
        "F1 = imputer_catif.transform(X_inf_cat)\n",
        "\n",
        "inf_cat_in = pd.DataFrame(F1, columns=X_inf_cat.columns, index=X_inf_cat.index)\n",
        "\n",
        "# Encode Feture kategori\n",
        "inf_cat_in_enc = encoder.transform(inf_cat_in)"
      ]
    },
    {
      "cell_type": "code",
      "execution_count": 56,
      "metadata": {},
      "outputs": [],
      "source": [
        "#Scaled Feature numerik\n",
        "scaler.fit(X_inf_num)\n",
        "\n",
        "X_inf_scaled = scaler.transform(X_inf_num)"
      ]
    },
    {
      "cell_type": "code",
      "execution_count": 57,
      "metadata": {},
      "outputs": [],
      "source": [
        "# Concatined data inference\n",
        "inf_final = np.concatenate([X_inf_scaled, inf_cat_in_enc], axis=1)"
      ]
    },
    {
      "cell_type": "code",
      "execution_count": 58,
      "metadata": {},
      "outputs": [],
      "source": [
        "# Predict data inference dengan Best Hyperparameter Random forest\n",
        "y_pred_inf = rf_gridcv_best.predict(inf_final)"
      ]
    },
    {
      "cell_type": "code",
      "execution_count": 59,
      "metadata": {},
      "outputs": [
        {
          "data": {
            "text/html": [
              "<div>\n",
              "<style scoped>\n",
              "    .dataframe tbody tr th:only-of-type {\n",
              "        vertical-align: middle;\n",
              "    }\n",
              "\n",
              "    .dataframe tbody tr th {\n",
              "        vertical-align: top;\n",
              "    }\n",
              "\n",
              "    .dataframe thead th {\n",
              "        text-align: right;\n",
              "    }\n",
              "</style>\n",
              "<table border=\"1\" class=\"dataframe\">\n",
              "  <thead>\n",
              "    <tr style=\"text-align: right;\">\n",
              "      <th></th>\n",
              "      <th>y</th>\n",
              "      <th>y</th>\n",
              "    </tr>\n",
              "  </thead>\n",
              "  <tbody>\n",
              "    <tr>\n",
              "      <th>0</th>\n",
              "      <td>1</td>\n",
              "      <td>1</td>\n",
              "    </tr>\n",
              "    <tr>\n",
              "      <th>1</th>\n",
              "      <td>1</td>\n",
              "      <td>1</td>\n",
              "    </tr>\n",
              "    <tr>\n",
              "      <th>2</th>\n",
              "      <td>0</td>\n",
              "      <td>1</td>\n",
              "    </tr>\n",
              "    <tr>\n",
              "      <th>3</th>\n",
              "      <td>1</td>\n",
              "      <td>1</td>\n",
              "    </tr>\n",
              "    <tr>\n",
              "      <th>4</th>\n",
              "      <td>1</td>\n",
              "      <td>1</td>\n",
              "    </tr>\n",
              "    <tr>\n",
              "      <th>5</th>\n",
              "      <td>1</td>\n",
              "      <td>1</td>\n",
              "    </tr>\n",
              "    <tr>\n",
              "      <th>6</th>\n",
              "      <td>1</td>\n",
              "      <td>1</td>\n",
              "    </tr>\n",
              "    <tr>\n",
              "      <th>7</th>\n",
              "      <td>1</td>\n",
              "      <td>1</td>\n",
              "    </tr>\n",
              "    <tr>\n",
              "      <th>8</th>\n",
              "      <td>1</td>\n",
              "      <td>1</td>\n",
              "    </tr>\n",
              "    <tr>\n",
              "      <th>9</th>\n",
              "      <td>1</td>\n",
              "      <td>1</td>\n",
              "    </tr>\n",
              "  </tbody>\n",
              "</table>\n",
              "</div>"
            ],
            "text/plain": [
              "   y  y\n",
              "0  1  1\n",
              "1  1  1\n",
              "2  0  1\n",
              "3  1  1\n",
              "4  1  1\n",
              "5  1  1\n",
              "6  1  1\n",
              "7  1  1\n",
              "8  1  1\n",
              "9  1  1"
            ]
          },
          "execution_count": 59,
          "metadata": {},
          "output_type": "execute_result"
        }
      ],
      "source": [
        "# cek akurasi data inference\n",
        "pred_acc = pd.DataFrame(y_pred_inf, columns=['y'])\n",
        "\n",
        "Y = pd.concat([y_inf, pred_acc], axis=1)\n",
        "Y"
      ]
    },
    {
      "cell_type": "markdown",
      "metadata": {
        "id": "_r9f3NMMqoGS"
      },
      "source": [
        "# 10. Pengambilan Kesimpulan"
      ]
    },
    {
      "cell_type": "markdown",
      "metadata": {
        "id": "wA5_CKToqskc"
      },
      "source": [
        "> Pada bagian terakhir ini, **harus berisi** kesimpulan yang mencerminkan hasil yang didapat dengan *objective* yang sudah ditulis di bagian pengenalan."
      ]
    },
    {
      "cell_type": "markdown",
      "metadata": {},
      "source": [
        "- Exp :\n",
        "    > - Dari beberapa model yang kita uji coba adalah ensembel random RandomForest\n",
        "    > - model random forest kita gunakan karena prediksi f1score terhadap X test lebih besar dibandingkan yang lainnya\n",
        "    > - Ketika menggunakan hyperparameter tunning dengan GridSearchCV accuracy nya sedikit bertambah tetapi tidak signifikan\n",
        "    > - Hal ini akan dapat di optimalisasi dengan melakukan data preprocessing lebih lanjut\n",
        "    > - Dan juga melakukan set up param_grid dengan hyperparameter yang lebih kompleks"
      ]
    }
  ],
  "metadata": {
    "colab": {
      "name": "DraftP1.ipynb",
      "provenance": [],
      "toc_visible": true
    },
    "interpreter": {
      "hash": "88279d2366fe020547cde40dd65aa0e3aa662a6ec1f3ca12d88834876c85e1a6"
    },
    "kernelspec": {
      "display_name": "Python 3.9.7 ('base')",
      "language": "python",
      "name": "python3"
    },
    "language_info": {
      "codemirror_mode": {
        "name": "ipython",
        "version": 3
      },
      "file_extension": ".py",
      "mimetype": "text/x-python",
      "name": "python",
      "nbconvert_exporter": "python",
      "pygments_lexer": "ipython3",
      "version": "3.9.7"
    }
  },
  "nbformat": 4,
  "nbformat_minor": 0
}
